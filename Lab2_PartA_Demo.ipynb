{
  "cells": [
    {
      "cell_type": "markdown",
      "metadata": {
        "id": "view-in-github",
        "colab_type": "text"
      },
      "source": [
        "<a href=\"https://colab.research.google.com/github/almost232/summer-school/blob/main/Lab2_PartA_Demo.ipynb\" target=\"_parent\"><img src=\"https://colab.research.google.com/assets/colab-badge.svg\" alt=\"Open In Colab\"/></a>"
      ]
    },
    {
      "cell_type": "markdown",
      "id": "cFfY5IwzYhE3",
      "metadata": {
        "id": "cFfY5IwzYhE3"
      },
      "source": [
        "| | |\n",
        "|:---:|:---|\n",
        "| <img src=\"https://i.ytimg.com/vi/1W-sWmFQPZY/sddefault.jpg\" width=\"200\"/> |  <strong><font size=5>Future x Summer School 2025 </font></strong><br><br><strong><font color=\"#1A54A6\" size=5>LLMs<br>Lab 2 Part A: Embeddings in Context (DEMO)</font></strong>|\n",
        "\n",
        "---\n",
        "\n",
        "\n",
        "\n",
        "**Instructor:**  \n",
        "Pavlos Protopapas  \n",
        "\n",
        "**Teaching Team:**  \n",
        "Nawang Thinley Bhutia\n",
        "\n"
      ]
    },
    {
      "cell_type": "markdown",
      "id": "7jrBr1SwxqLb",
      "metadata": {
        "id": "7jrBr1SwxqLb"
      },
      "source": [
        "\n",
        "In this notebook, we will explore how context can impact embeddings. We first use word2vec and oserve **static embeddings** and then assess how using a model like BERT (Bidirectional Encoder Representations from Transformers) can give us enganced **contextualised embeddings**."
      ]
    },
    {
      "cell_type": "markdown",
      "id": "gMd8pUwSYWrv",
      "metadata": {
        "id": "gMd8pUwSYWrv"
      },
      "source": [
        "**📝 Make a Copy to Edit**\n",
        "\n",
        "This notebook is **view-only**. To edit it, follow these steps:\n",
        "\n",
        "1. Click **File** > **Save a copy in Drive**.\n",
        "2. Your own editable copy will open in a new tab.\n",
        "\n",
        "Now you can modify and run the code freely!"
      ]
    },
    {
      "cell_type": "markdown",
      "id": "71d7c253",
      "metadata": {
        "id": "71d7c253"
      },
      "source": [
        "\n",
        "\n",
        "## Table of Contents\n",
        " **Part A**\n",
        "\n",
        "\n",
        "- <font color ='#CE6DFF'>**Using Word2Vec**</font>\n",
        "    -   Extracting relevant embeddings\n",
        "    -   Applying dimensionality reduction\n",
        "    -   Exploring word embeddings\n",
        "-<font color ='#34B086'>**Using BERT**</font>\n",
        "    -   Extracting relevant embeddings\n",
        "    -   Applying dimensionality reduction\n",
        "    -   Exploring word embeddings\n",
        "\n",
        "- <font color ='1A54A6'>**Take Home Exercise**🏡\n",
        "\n",
        "\n",
        "---\n",
        "\n"
      ]
    },
    {
      "cell_type": "markdown",
      "id": "NrFd4tvYgFPC",
      "metadata": {
        "id": "NrFd4tvYgFPC"
      },
      "source": [
        "## **Importing the require libraries**"
      ]
    },
    {
      "cell_type": "code",
      "execution_count": 1,
      "id": "yLSIpnCVHCTg",
      "metadata": {
        "id": "yLSIpnCVHCTg",
        "colab": {
          "base_uri": "https://localhost:8080/"
        },
        "outputId": "18c53ada-dbf1-41e4-83b6-0458a9df9c61"
      },
      "outputs": [
        {
          "output_type": "stream",
          "name": "stdout",
          "text": [
            "\u001b[2K   \u001b[90m━━━━━━━━━━━━━━━━━━━━━━━━━━━━━━━━━━━━━━━━\u001b[0m \u001b[32m363.4/363.4 MB\u001b[0m \u001b[31m4.0 MB/s\u001b[0m eta \u001b[36m0:00:00\u001b[0m\n",
            "\u001b[2K   \u001b[90m━━━━━━━━━━━━━━━━━━━━━━━━━━━━━━━━━━━━━━━━\u001b[0m \u001b[32m13.8/13.8 MB\u001b[0m \u001b[31m64.1 MB/s\u001b[0m eta \u001b[36m0:00:00\u001b[0m\n",
            "\u001b[2K   \u001b[90m━━━━━━━━━━━━━━━━━━━━━━━━━━━━━━━━━━━━━━━━\u001b[0m \u001b[32m24.6/24.6 MB\u001b[0m \u001b[31m54.3 MB/s\u001b[0m eta \u001b[36m0:00:00\u001b[0m\n",
            "\u001b[2K   \u001b[90m━━━━━━━━━━━━━━━━━━━━━━━━━━━━━━━━━━━━━━━━\u001b[0m \u001b[32m883.7/883.7 kB\u001b[0m \u001b[31m29.1 MB/s\u001b[0m eta \u001b[36m0:00:00\u001b[0m\n",
            "\u001b[2K   \u001b[90m━━━━━━━━━━━━━━━━━━━━━━━━━━━━━━━━━━━━━━━━\u001b[0m \u001b[32m664.8/664.8 MB\u001b[0m \u001b[31m1.8 MB/s\u001b[0m eta \u001b[36m0:00:00\u001b[0m\n",
            "\u001b[2K   \u001b[90m━━━━━━━━━━━━━━━━━━━━━━━━━━━━━━━━━━━━━━━━\u001b[0m \u001b[32m211.5/211.5 MB\u001b[0m \u001b[31m4.9 MB/s\u001b[0m eta \u001b[36m0:00:00\u001b[0m\n",
            "\u001b[2K   \u001b[90m━━━━━━━━━━━━━━━━━━━━━━━━━━━━━━━━━━━━━━━━\u001b[0m \u001b[32m56.3/56.3 MB\u001b[0m \u001b[31m10.5 MB/s\u001b[0m eta \u001b[36m0:00:00\u001b[0m\n",
            "\u001b[2K   \u001b[90m━━━━━━━━━━━━━━━━━━━━━━━━━━━━━━━━━━━━━━━━\u001b[0m \u001b[32m127.9/127.9 MB\u001b[0m \u001b[31m8.3 MB/s\u001b[0m eta \u001b[36m0:00:00\u001b[0m\n",
            "\u001b[2K   \u001b[90m━━━━━━━━━━━━━━━━━━━━━━━━━━━━━━━━━━━━━━━━\u001b[0m \u001b[32m207.5/207.5 MB\u001b[0m \u001b[31m3.2 MB/s\u001b[0m eta \u001b[36m0:00:00\u001b[0m\n",
            "\u001b[2K   \u001b[90m━━━━━━━━━━━━━━━━━━━━━━━━━━━━━━━━━━━━━━━━\u001b[0m \u001b[32m21.1/21.1 MB\u001b[0m \u001b[31m23.3 MB/s\u001b[0m eta \u001b[36m0:00:00\u001b[0m\n",
            "\u001b[?25h"
          ]
        }
      ],
      "source": [
        "pip install -q sentence-transformers"
      ]
    },
    {
      "cell_type": "code",
      "execution_count": 2,
      "id": "QzdzOquQgg76",
      "metadata": {
        "colab": {
          "base_uri": "https://localhost:8080/"
        },
        "id": "QzdzOquQgg76",
        "outputId": "7b01bde8-7b15-49d4-f192-59fe10cb60bf"
      },
      "outputs": [
        {
          "output_type": "stream",
          "name": "stderr",
          "text": [
            "[nltk_data] Downloading package stopwords to /root/nltk_data...\n",
            "[nltk_data]   Unzipping corpora/stopwords.zip.\n"
          ]
        }
      ],
      "source": [
        "import numpy as np\n",
        "\n",
        "#for dimensionality reduction\n",
        "from sklearn.decomposition import PCA\n",
        "\n",
        "#for plotting\n",
        "import matplotlib.pyplot as plt\n",
        "import plotly.express as px\n",
        "import plotly.graph_objects as go\n",
        "#from plotly.subplots import make_subplots\n",
        "\n",
        "\n",
        "#for text preprocessing\n",
        "import nltk\n",
        "nltk.download('stopwords')\n",
        "from nltk.corpus import stopwords"
      ]
    },
    {
      "cell_type": "markdown",
      "id": "g-3R6ESyYSwe",
      "metadata": {
        "id": "g-3R6ESyYSwe"
      },
      "source": [
        "## **Sample Sentences**"
      ]
    },
    {
      "cell_type": "code",
      "execution_count": 3,
      "id": "OJvCV-HQc9qy",
      "metadata": {
        "id": "OJvCV-HQc9qy"
      },
      "outputs": [],
      "source": [
        "sentences = [\n",
        "    \"I am going to the bank to withdraw money\",\n",
        "    \"He is sitting on the river bank\",\n",
        "    \"She went to the bank to deposit a check\",\n",
        "    \"They had a picnic by the river bank\",\n",
        "    \"I need to withdraw cash from the bank\",\n",
        "    \"The kids are playing on the river bank\"\n",
        "]"
      ]
    },
    {
      "cell_type": "code",
      "execution_count": 4,
      "id": "ExRIEy6pcyOn",
      "metadata": {
        "colab": {
          "base_uri": "https://localhost:8080/"
        },
        "id": "ExRIEy6pcyOn",
        "outputId": "595c590f-06c7-4663-e8ba-31f7cc812c8f"
      },
      "outputs": [
        {
          "output_type": "stream",
          "name": "stdout",
          "text": [
            "['going', 'bank', 'withdraw', 'money', 'sitting', 'river', 'bank', 'went', 'bank', 'deposit', 'check', 'picnic', 'river', 'bank', 'need', 'withdraw', 'cash', 'bank', 'kids', 'playing', 'river', 'bank']\n"
          ]
        }
      ],
      "source": [
        "#remember your preprocessing steps from lab 1\n",
        "stop_words = set(stopwords.words('english')) #these are typical stop words in english like a, an , the\n",
        "\n",
        "#lets see what words remain once we remove stopwords\n",
        "words_of_interest = [word for sentence in sentences for word in sentence.lower().split() if word not in stop_words]\n",
        "print(words_of_interest)"
      ]
    },
    {
      "cell_type": "markdown",
      "id": "eyUT_kgt2zay",
      "metadata": {
        "id": "eyUT_kgt2zay"
      },
      "source": [
        "\n",
        "# <font color ='#CE6DFF'>**Using Word2Vec**</font>"
      ]
    },
    {
      "cell_type": "markdown",
      "id": "f7JcwdSZ_G_L",
      "metadata": {
        "id": "f7JcwdSZ_G_L"
      },
      "source": [
        "## **Loading pretrained word2vec model**\n",
        "\n",
        "Just like we did for Lab 1 (PartB)!\n"
      ]
    },
    {
      "cell_type": "code",
      "execution_count": 1,
      "id": "8IKNQCE8_KkP",
      "metadata": {
        "colab": {
          "base_uri": "https://localhost:8080/"
        },
        "id": "8IKNQCE8_KkP",
        "outputId": "3b98e4ba-bdba-48bf-fe14-03e1be880ee5"
      },
      "outputs": [
        {
          "output_type": "stream",
          "name": "stdout",
          "text": [
            "Model does not exist, loading model\n",
            "[==================================================] 100.0% 1662.8/1662.8MB downloaded\n"
          ]
        }
      ],
      "source": [
        "# Load pre-trained Word2Vec model (Google News vectors) using gensim downloader\n",
        "# Note: This cell can take upto 10+ minutes to load the entire model\n",
        "\n",
        "# 首先确保安装了gensim\n",
        "try:\n",
        "    import gensim.downloader as api\n",
        "except ImportError:\n",
        "    !pip install gensim\n",
        "    import gensim.downloader as api\n",
        "\n",
        "if 'model_google_w2v' in locals():\n",
        "    print('Model already exists, using existing model')\n",
        "else:\n",
        "    print('Model does not exist, loading model')\n",
        "    model_google_w2v = api.load('word2vec-google-news-300')"
      ]
    },
    {
      "cell_type": "markdown",
      "id": "OXQZwbjRYfH4",
      "metadata": {
        "id": "OXQZwbjRYfH4"
      },
      "source": [
        "\n",
        "## **Extract Embeddings for all words**"
      ]
    },
    {
      "cell_type": "code",
      "execution_count": 3,
      "id": "YE6p5_TtG7nX",
      "metadata": {
        "id": "YE6p5_TtG7nX",
        "colab": {
          "base_uri": "https://localhost:8080/"
        },
        "outputId": "ce1826e7-4b5c-432a-d344-73cd8a5c245d"
      },
      "outputs": [
        {
          "output_type": "stream",
          "name": "stdout",
          "text": [
            "找到 8 个单词的向量\n",
            "向量形状: (8, 300)\n"
          ]
        }
      ],
      "source": [
        "import numpy as np\n",
        "\n",
        "# 1. 定义你感兴趣的单词列表\n",
        "words_of_interest = ['apple', 'banana', 'computer', 'science', 'happy', 'sad', 'dog', 'cat']\n",
        "\n",
        "# 2. 检查模型是否已加载\n",
        "if 'model_google_w2v' not in locals():\n",
        "    print(\"请先加载word2vec模型\")\n",
        "else:\n",
        "    # 3. 收集存在的单词及其向量\n",
        "    word_vector_pairs = [(word, model_google_w2v[word]) for word in words_of_interest if word in model_google_w2v]\n",
        "\n",
        "    # 4. 提取向量创建numpy数组\n",
        "    word_vectors = np.array([pair[1] for pair in word_vector_pairs])\n",
        "\n",
        "    # 打印结果\n",
        "    print(f\"找到 {len(word_vectors)} 个单词的向量\")\n",
        "    print(\"向量形状:\", word_vectors.shape)"
      ]
    },
    {
      "cell_type": "code",
      "execution_count": 4,
      "id": "1OHBMPa5PJXu",
      "metadata": {
        "colab": {
          "base_uri": "https://localhost:8080/"
        },
        "id": "1OHBMPa5PJXu",
        "outputId": "03cdd24c-c44c-447a-a6ed-69a7f0652eec"
      },
      "outputs": [
        {
          "output_type": "execute_result",
          "data": {
            "text/plain": [
              "(8, 300)"
            ]
          },
          "metadata": {},
          "execution_count": 4
        }
      ],
      "source": [
        "word_vectors.shape"
      ]
    },
    {
      "cell_type": "markdown",
      "id": "qhNPH83CAiOj",
      "metadata": {
        "id": "qhNPH83CAiOj"
      },
      "source": [
        "### **Dimensionality reduction**"
      ]
    },
    {
      "cell_type": "code",
      "execution_count": 6,
      "id": "T9DBW35-dxHQ",
      "metadata": {
        "id": "T9DBW35-dxHQ",
        "colab": {
          "base_uri": "https://localhost:8080/"
        },
        "outputId": "e96ab08c-72d0-4163-b49f-21b63409140e"
      },
      "outputs": [
        {
          "output_type": "stream",
          "name": "stdout",
          "text": [
            "降维后的形状: (8, 2)\n",
            "前5个2D嵌入:\n",
            " [[ 1.3047789  -1.4407307 ]\n",
            " [ 1.0551658  -1.381914  ]\n",
            " [ 0.800142    0.37812236]\n",
            " [ 1.3731421   1.0849917 ]\n",
            " [-0.4330504   1.3653991 ]]\n",
            "解释方差比例: [0.25008023 0.24741721]\n"
          ]
        }
      ],
      "source": [
        "# 1. 导入所有必要的库\n",
        "from sklearn.decomposition import PCA\n",
        "import numpy as np\n",
        "\n",
        "# 2. 确保已有word_vectors数据\n",
        "# (假设word_vectors是之前步骤生成的300维词向量数组)\n",
        "\n",
        "# 3. 使用PCA降维到2维\n",
        "pca = PCA(n_components=2)\n",
        "embeddings_2d_pca = pca.fit_transform(word_vectors)\n",
        "\n",
        "# 4. 查看结果\n",
        "print(\"降维后的形状:\", embeddings_2d_pca.shape)\n",
        "print(\"前5个2D嵌入:\\n\", embeddings_2d_pca[:5])\n",
        "print(\"解释方差比例:\", pca.explained_variance_ratio_)"
      ]
    },
    {
      "cell_type": "markdown",
      "id": "Z4SFWjci_Usl",
      "metadata": {
        "id": "Z4SFWjci_Usl"
      },
      "source": [
        "## **Plot the Embeddings**"
      ]
    },
    {
      "cell_type": "code",
      "execution_count": 9,
      "id": "UK7L09zqsSMj",
      "metadata": {
        "colab": {
          "base_uri": "https://localhost:8080/",
          "height": 1000
        },
        "id": "UK7L09zqsSMj",
        "outputId": "1bb577de-7fc3-4a2d-ce4b-41b10904b0e2"
      },
      "outputs": [
        {
          "output_type": "display_data",
          "data": {
            "text/plain": [
              "<Figure size 1000x1000 with 1 Axes>"
            ],
            "image/png": "[encoded data removed]"
          },
          "metadata": {}
        }
      ],
      "source": [
        "# 1. 导入所有必要的库\n",
        "import matplotlib.pyplot as plt\n",
        "from sklearn.decomposition import PCA\n",
        "import numpy as np\n",
        "\n",
        "# 2. 假设已有以下数据:\n",
        "# word_vector_pairs = [(word1, vec1), (word2, vec2), ...]\n",
        "# word_vectors = np.array([v for _, v in word_vector_pairs])\n",
        "\n",
        "# 3. PCA降维\n",
        "pca = PCA(n_components=2)\n",
        "embeddings_2d_pca = pca.fit_transform(word_vectors)\n",
        "\n",
        "# 4. 绘制结果\n",
        "plt.figure(figsize=(10, 10))\n",
        "for i, (word, _) in enumerate(word_vector_pairs):\n",
        "    plt.scatter(embeddings_2d_pca[i, 0], embeddings_2d_pca[i, 1], label=word)\n",
        "    plt.annotate(word,\n",
        "                (embeddings_2d_pca[i, 0], embeddings_2d_pca[i, 1]),\n",
        "                xytext=(0,10),\n",
        "                textcoords=\"offset points\",\n",
        "                ha=\"center\")\n",
        "plt.title('2D Visualization of Word Embeddings (PCA)')\n",
        "plt.xlabel('Principal Component 1')\n",
        "plt.ylabel('Principal Component 2')\n",
        "plt.grid(True)\n",
        "plt.legend(bbox_to_anchor=(1.05, 1), loc='upper left')  # 将图例放在图表外侧\n",
        "plt.tight_layout()  # 自动调整布局\n",
        "plt.show()"
      ]
    },
    {
      "cell_type": "markdown",
      "id": "n_ojMwe0_3iF",
      "metadata": {
        "id": "n_ojMwe0_3iF"
      },
      "source": [
        "### We can see that there is only one embedding per word."
      ]
    },
    {
      "cell_type": "markdown",
      "id": "XCS0DiakiTQE",
      "metadata": {
        "id": "XCS0DiakiTQE"
      },
      "source": [
        "### However, overlapping points are not clear enough here so let us try plotly (another alternative to matplotlib)"
      ]
    },
    {
      "cell_type": "code",
      "execution_count": 11,
      "id": "fadAPxcsiW-Z",
      "metadata": {
        "colab": {
          "base_uri": "https://localhost:8080/",
          "height": 542
        },
        "id": "fadAPxcsiW-Z",
        "outputId": "3cc910b6-b432-40ac-f50c-b15b24f17d03"
      },
      "outputs": [
        {
          "output_type": "display_data",
          "data": {
            "text/html": [
              "<html>\n",
              "<head><meta charset=\"utf-8\" /></head>\n",
              "<body>\n",
              "    <div>            <script src=\"https://cdnjs.cloudflare.com/ajax/libs/mathjax/2.7.5/MathJax.js?config=TeX-AMS-MML_SVG\"></script><script type=\"text/javascript\">if (window.MathJax && window.MathJax.Hub && window.MathJax.Hub.Config) {window.MathJax.Hub.Config({SVG: {font: \"STIX-Web\"}});}</script>                <script type=\"text/javascript\">window.PlotlyConfig = {MathJaxConfig: 'local'};</script>\n",
              "        <script charset=\"utf-8\" src=\"https://cdn.plot.ly/plotly-2.35.2.min.js\"></script>                <div id=\"c2892e6c-dfe4-4008-9fd9-5a84f8a7be1e\" class=\"plotly-graph-div\" style=\"height:525px; width:100%;\"></div>            <script type=\"text/javascript\">                                    window.PLOTLYENV=window.PLOTLYENV || {};                                    if (document.getElementById(\"c2892e6c-dfe4-4008-9fd9-5a84f8a7be1e\")) {                    Plotly.newPlot(                        \"c2892e6c-dfe4-4008-9fd9-5a84f8a7be1e\",                        [{\"hoverinfo\":\"text\",\"hovertext\":\"apple\\u003cbr\\u003ePC1: 1.305\\u003cbr\\u003ePC2: -1.441\",\"marker\":{\"color\":0,\"colorscale\":[[0.0,\"#440154\"],[0.1111111111111111,\"#482878\"],[0.2222222222222222,\"#3e4989\"],[0.3333333333333333,\"#31688e\"],[0.4444444444444444,\"#26828e\"],[0.5555555555555556,\"#1f9e89\"],[0.6666666666666666,\"#35b779\"],[0.7777777777777778,\"#6ece58\"],[0.8888888888888888,\"#b5de2b\"],[1.0,\"#fde725\"]],\"size\":10},\"mode\":\"markers+text\",\"name\":\"apple\",\"text\":[\"apple\"],\"textposition\":\"top center\",\"x\":[1.3047789335250854],\"y\":[-1.4407306909561157],\"type\":\"scatter\"},{\"hoverinfo\":\"text\",\"hovertext\":\"banana\\u003cbr\\u003ePC1: 1.055\\u003cbr\\u003ePC2: -1.382\",\"marker\":{\"color\":1,\"colorscale\":[[0.0,\"#440154\"],[0.1111111111111111,\"#482878\"],[0.2222222222222222,\"#3e4989\"],[0.3333333333333333,\"#31688e\"],[0.4444444444444444,\"#26828e\"],[0.5555555555555556,\"#1f9e89\"],[0.6666666666666666,\"#35b779\"],[0.7777777777777778,\"#6ece58\"],[0.8888888888888888,\"#b5de2b\"],[1.0,\"#fde725\"]],\"size\":10},\"mode\":\"markers+text\",\"name\":\"banana\",\"text\":[\"banana\"],\"textposition\":\"top center\",\"x\":[1.0551657676696777],\"y\":[-1.3819140195846558],\"type\":\"scatter\"},{\"hoverinfo\":\"text\",\"hovertext\":\"computer\\u003cbr\\u003ePC1: 0.800\\u003cbr\\u003ePC2: 0.378\",\"marker\":{\"color\":2,\"colorscale\":[[0.0,\"#440154\"],[0.1111111111111111,\"#482878\"],[0.2222222222222222,\"#3e4989\"],[0.3333333333333333,\"#31688e\"],[0.4444444444444444,\"#26828e\"],[0.5555555555555556,\"#1f9e89\"],[0.6666666666666666,\"#35b779\"],[0.7777777777777778,\"#6ece58\"],[0.8888888888888888,\"#b5de2b\"],[1.0,\"#fde725\"]],\"size\":10},\"mode\":\"markers+text\",\"name\":\"computer\",\"text\":[\"computer\"],\"textposition\":\"top center\",\"x\":[0.8001419901847839],\"y\":[0.37812235951423645],\"type\":\"scatter\"},{\"hoverinfo\":\"text\",\"hovertext\":\"science\\u003cbr\\u003ePC1: 1.373\\u003cbr\\u003ePC2: 1.085\",\"marker\":{\"color\":3,\"colorscale\":[[0.0,\"#440154\"],[0.1111111111111111,\"#482878\"],[0.2222222222222222,\"#3e4989\"],[0.3333333333333333,\"#31688e\"],[0.4444444444444444,\"#26828e\"],[0.5555555555555556,\"#1f9e89\"],[0.6666666666666666,\"#35b779\"],[0.7777777777777778,\"#6ece58\"],[0.8888888888888888,\"#b5de2b\"],[1.0,\"#fde725\"]],\"size\":10},\"mode\":\"markers+text\",\"name\":\"science\",\"text\":[\"science\"],\"textposition\":\"top center\",\"x\":[1.373142123222351],\"y\":[1.084991693496704],\"type\":\"scatter\"},{\"hoverinfo\":\"text\",\"hovertext\":\"happy\\u003cbr\\u003ePC1: -0.433\\u003cbr\\u003ePC2: 1.365\",\"marker\":{\"color\":4,\"colorscale\":[[0.0,\"#440154\"],[0.1111111111111111,\"#482878\"],[0.2222222222222222,\"#3e4989\"],[0.3333333333333333,\"#31688e\"],[0.4444444444444444,\"#26828e\"],[0.5555555555555556,\"#1f9e89\"],[0.6666666666666666,\"#35b779\"],[0.7777777777777778,\"#6ece58\"],[0.8888888888888888,\"#b5de2b\"],[1.0,\"#fde725\"]],\"size\":10},\"mode\":\"markers+text\",\"name\":\"happy\",\"text\":[\"happy\"],\"textposition\":\"top center\",\"x\":[-0.43305039405822754],\"y\":[1.3653991222381592],\"type\":\"scatter\"},{\"hoverinfo\":\"text\",\"hovertext\":\"sad\\u003cbr\\u003ePC1: -0.572\\u003cbr\\u003ePC2: 1.784\",\"marker\":{\"color\":5,\"colorscale\":[[0.0,\"#440154\"],[0.1111111111111111,\"#482878\"],[0.2222222222222222,\"#3e4989\"],[0.3333333333333333,\"#31688e\"],[0.4444444444444444,\"#26828e\"],[0.5555555555555556,\"#1f9e89\"],[0.6666666666666666,\"#35b779\"],[0.7777777777777778,\"#6ece58\"],[0.8888888888888888,\"#b5de2b\"],[1.0,\"#fde725\"]],\"size\":10},\"mode\":\"markers+text\",\"name\":\"sad\",\"text\":[\"sad\"],\"textposition\":\"top center\",\"x\":[-0.5718340873718262],\"y\":[1.7835346460342407],\"type\":\"scatter\"},{\"hoverinfo\":\"text\",\"hovertext\":\"dog\\u003cbr\\u003ePC1: -1.761\\u003cbr\\u003ePC2: -0.905\",\"marker\":{\"color\":6,\"colorscale\":[[0.0,\"#440154\"],[0.1111111111111111,\"#482878\"],[0.2222222222222222,\"#3e4989\"],[0.3333333333333333,\"#31688e\"],[0.4444444444444444,\"#26828e\"],[0.5555555555555556,\"#1f9e89\"],[0.6666666666666666,\"#35b779\"],[0.7777777777777778,\"#6ece58\"],[0.8888888888888888,\"#b5de2b\"],[1.0,\"#fde725\"]],\"size\":10},\"mode\":\"markers+text\",\"name\":\"dog\",\"text\":[\"dog\"],\"textposition\":\"top center\",\"x\":[-1.7612322568893433],\"y\":[-0.9049103260040283],\"type\":\"scatter\"},{\"hoverinfo\":\"text\",\"hovertext\":\"cat\\u003cbr\\u003ePC1: -1.767\\u003cbr\\u003ePC2: -0.884\",\"marker\":{\"color\":7,\"colorscale\":[[0.0,\"#440154\"],[0.1111111111111111,\"#482878\"],[0.2222222222222222,\"#3e4989\"],[0.3333333333333333,\"#31688e\"],[0.4444444444444444,\"#26828e\"],[0.5555555555555556,\"#1f9e89\"],[0.6666666666666666,\"#35b779\"],[0.7777777777777778,\"#6ece58\"],[0.8888888888888888,\"#b5de2b\"],[1.0,\"#fde725\"]],\"size\":10},\"mode\":\"markers+text\",\"name\":\"cat\",\"text\":[\"cat\"],\"textposition\":\"top center\",\"x\":[-1.767112135887146],\"y\":[-0.8844936490058899],\"type\":\"scatter\"}],                        {\"template\":{\"data\":{\"barpolar\":[{\"marker\":{\"line\":{\"color\":\"white\",\"width\":0.5},\"pattern\":{\"fillmode\":\"overlay\",\"size\":10,\"solidity\":0.2}},\"type\":\"barpolar\"}],\"bar\":[{\"error_x\":{\"color\":\"#2a3f5f\"},\"error_y\":{\"color\":\"#2a3f5f\"},\"marker\":{\"line\":{\"color\":\"white\",\"width\":0.5},\"pattern\":{\"fillmode\":\"overlay\",\"size\":10,\"solidity\":0.2}},\"type\":\"bar\"}],\"carpet\":[{\"aaxis\":{\"endlinecolor\":\"#2a3f5f\",\"gridcolor\":\"#C8D4E3\",\"linecolor\":\"#C8D4E3\",\"minorgridcolor\":\"#C8D4E3\",\"startlinecolor\":\"#2a3f5f\"},\"baxis\":{\"endlinecolor\":\"#2a3f5f\",\"gridcolor\":\"#C8D4E3\",\"linecolor\":\"#C8D4E3\",\"minorgridcolor\":\"#C8D4E3\",\"startlinecolor\":\"#2a3f5f\"},\"type\":\"carpet\"}],\"choropleth\":[{\"colorbar\":{\"outlinewidth\":0,\"ticks\":\"\"},\"type\":\"choropleth\"}],\"contourcarpet\":[{\"colorbar\":{\"outlinewidth\":0,\"ticks\":\"\"},\"type\":\"contourcarpet\"}],\"contour\":[{\"colorbar\":{\"outlinewidth\":0,\"ticks\":\"\"},\"colorscale\":[[0.0,\"#0d0887\"],[0.1111111111111111,\"#46039f\"],[0.2222222222222222,\"#7201a8\"],[0.3333333333333333,\"#9c179e\"],[0.4444444444444444,\"#bd3786\"],[0.5555555555555556,\"#d8576b\"],[0.6666666666666666,\"#ed7953\"],[0.7777777777777778,\"#fb9f3a\"],[0.8888888888888888,\"#fdca26\"],[1.0,\"#f0f921\"]],\"type\":\"contour\"}],\"heatmapgl\":[{\"colorbar\":{\"outlinewidth\":0,\"ticks\":\"\"},\"colorscale\":[[0.0,\"#0d0887\"],[0.1111111111111111,\"#46039f\"],[0.2222222222222222,\"#7201a8\"],[0.3333333333333333,\"#9c179e\"],[0.4444444444444444,\"#bd3786\"],[0.5555555555555556,\"#d8576b\"],[0.6666666666666666,\"#ed7953\"],[0.7777777777777778,\"#fb9f3a\"],[0.8888888888888888,\"#fdca26\"],[1.0,\"#f0f921\"]],\"type\":\"heatmapgl\"}],\"heatmap\":[{\"colorbar\":{\"outlinewidth\":0,\"ticks\":\"\"},\"colorscale\":[[0.0,\"#0d0887\"],[0.1111111111111111,\"#46039f\"],[0.2222222222222222,\"#7201a8\"],[0.3333333333333333,\"#9c179e\"],[0.4444444444444444,\"#bd3786\"],[0.5555555555555556,\"#d8576b\"],[0.6666666666666666,\"#ed7953\"],[0.7777777777777778,\"#fb9f3a\"],[0.8888888888888888,\"#fdca26\"],[1.0,\"#f0f921\"]],\"type\":\"heatmap\"}],\"histogram2dcontour\":[{\"colorbar\":{\"outlinewidth\":0,\"ticks\":\"\"},\"colorscale\":[[0.0,\"#0d0887\"],[0.1111111111111111,\"#46039f\"],[0.2222222222222222,\"#7201a8\"],[0.3333333333333333,\"#9c179e\"],[0.4444444444444444,\"#bd3786\"],[0.5555555555555556,\"#d8576b\"],[0.6666666666666666,\"#ed7953\"],[0.7777777777777778,\"#fb9f3a\"],[0.8888888888888888,\"#fdca26\"],[1.0,\"#f0f921\"]],\"type\":\"histogram2dcontour\"}],\"histogram2d\":[{\"colorbar\":{\"outlinewidth\":0,\"ticks\":\"\"},\"colorscale\":[[0.0,\"#0d0887\"],[0.1111111111111111,\"#46039f\"],[0.2222222222222222,\"#7201a8\"],[0.3333333333333333,\"#9c179e\"],[0.4444444444444444,\"#bd3786\"],[0.5555555555555556,\"#d8576b\"],[0.6666666666666666,\"#ed7953\"],[0.7777777777777778,\"#fb9f3a\"],[0.8888888888888888,\"#fdca26\"],[1.0,\"#f0f921\"]],\"type\":\"histogram2d\"}],\"histogram\":[{\"marker\":{\"pattern\":{\"fillmode\":\"overlay\",\"size\":10,\"solidity\":0.2}},\"type\":\"histogram\"}],\"mesh3d\":[{\"colorbar\":{\"outlinewidth\":0,\"ticks\":\"\"},\"type\":\"mesh3d\"}],\"parcoords\":[{\"line\":{\"colorbar\":{\"outlinewidth\":0,\"ticks\":\"\"}},\"type\":\"parcoords\"}],\"pie\":[{\"automargin\":true,\"type\":\"pie\"}],\"scatter3d\":[{\"line\":{\"colorbar\":{\"outlinewidth\":0,\"ticks\":\"\"}},\"marker\":{\"colorbar\":{\"outlinewidth\":0,\"ticks\":\"\"}},\"type\":\"scatter3d\"}],\"scattercarpet\":[{\"marker\":{\"colorbar\":{\"outlinewidth\":0,\"ticks\":\"\"}},\"type\":\"scattercarpet\"}],\"scattergeo\":[{\"marker\":{\"colorbar\":{\"outlinewidth\":0,\"ticks\":\"\"}},\"type\":\"scattergeo\"}],\"scattergl\":[{\"marker\":{\"colorbar\":{\"outlinewidth\":0,\"ticks\":\"\"}},\"type\":\"scattergl\"}],\"scattermapbox\":[{\"marker\":{\"colorbar\":{\"outlinewidth\":0,\"ticks\":\"\"}},\"type\":\"scattermapbox\"}],\"scatterpolargl\":[{\"marker\":{\"colorbar\":{\"outlinewidth\":0,\"ticks\":\"\"}},\"type\":\"scatterpolargl\"}],\"scatterpolar\":[{\"marker\":{\"colorbar\":{\"outlinewidth\":0,\"ticks\":\"\"}},\"type\":\"scatterpolar\"}],\"scatter\":[{\"fillpattern\":{\"fillmode\":\"overlay\",\"size\":10,\"solidity\":0.2},\"type\":\"scatter\"}],\"scatterternary\":[{\"marker\":{\"colorbar\":{\"outlinewidth\":0,\"ticks\":\"\"}},\"type\":\"scatterternary\"}],\"surface\":[{\"colorbar\":{\"outlinewidth\":0,\"ticks\":\"\"},\"colorscale\":[[0.0,\"#0d0887\"],[0.1111111111111111,\"#46039f\"],[0.2222222222222222,\"#7201a8\"],[0.3333333333333333,\"#9c179e\"],[0.4444444444444444,\"#bd3786\"],[0.5555555555555556,\"#d8576b\"],[0.6666666666666666,\"#ed7953\"],[0.7777777777777778,\"#fb9f3a\"],[0.8888888888888888,\"#fdca26\"],[1.0,\"#f0f921\"]],\"type\":\"surface\"}],\"table\":[{\"cells\":{\"fill\":{\"color\":\"#EBF0F8\"},\"line\":{\"color\":\"white\"}},\"header\":{\"fill\":{\"color\":\"#C8D4E3\"},\"line\":{\"color\":\"white\"}},\"type\":\"table\"}]},\"layout\":{\"annotationdefaults\":{\"arrowcolor\":\"#2a3f5f\",\"arrowhead\":0,\"arrowwidth\":1},\"autotypenumbers\":\"strict\",\"coloraxis\":{\"colorbar\":{\"outlinewidth\":0,\"ticks\":\"\"}},\"colorscale\":{\"diverging\":[[0,\"#8e0152\"],[0.1,\"#c51b7d\"],[0.2,\"#de77ae\"],[0.3,\"#f1b6da\"],[0.4,\"#fde0ef\"],[0.5,\"#f7f7f7\"],[0.6,\"#e6f5d0\"],[0.7,\"#b8e186\"],[0.8,\"#7fbc41\"],[0.9,\"#4d9221\"],[1,\"#276419\"]],\"sequential\":[[0.0,\"#0d0887\"],[0.1111111111111111,\"#46039f\"],[0.2222222222222222,\"#7201a8\"],[0.3333333333333333,\"#9c179e\"],[0.4444444444444444,\"#bd3786\"],[0.5555555555555556,\"#d8576b\"],[0.6666666666666666,\"#ed7953\"],[0.7777777777777778,\"#fb9f3a\"],[0.8888888888888888,\"#fdca26\"],[1.0,\"#f0f921\"]],\"sequentialminus\":[[0.0,\"#0d0887\"],[0.1111111111111111,\"#46039f\"],[0.2222222222222222,\"#7201a8\"],[0.3333333333333333,\"#9c179e\"],[0.4444444444444444,\"#bd3786\"],[0.5555555555555556,\"#d8576b\"],[0.6666666666666666,\"#ed7953\"],[0.7777777777777778,\"#fb9f3a\"],[0.8888888888888888,\"#fdca26\"],[1.0,\"#f0f921\"]]},\"colorway\":[\"#636efa\",\"#EF553B\",\"#00cc96\",\"#ab63fa\",\"#FFA15A\",\"#19d3f3\",\"#FF6692\",\"#B6E880\",\"#FF97FF\",\"#FECB52\"],\"font\":{\"color\":\"#2a3f5f\"},\"geo\":{\"bgcolor\":\"white\",\"lakecolor\":\"white\",\"landcolor\":\"white\",\"showlakes\":true,\"showland\":true,\"subunitcolor\":\"#C8D4E3\"},\"hoverlabel\":{\"align\":\"left\"},\"hovermode\":\"closest\",\"mapbox\":{\"style\":\"light\"},\"paper_bgcolor\":\"white\",\"plot_bgcolor\":\"white\",\"polar\":{\"angularaxis\":{\"gridcolor\":\"#EBF0F8\",\"linecolor\":\"#EBF0F8\",\"ticks\":\"\"},\"bgcolor\":\"white\",\"radialaxis\":{\"gridcolor\":\"#EBF0F8\",\"linecolor\":\"#EBF0F8\",\"ticks\":\"\"}},\"scene\":{\"xaxis\":{\"backgroundcolor\":\"white\",\"gridcolor\":\"#DFE8F3\",\"gridwidth\":2,\"linecolor\":\"#EBF0F8\",\"showbackground\":true,\"ticks\":\"\",\"zerolinecolor\":\"#EBF0F8\"},\"yaxis\":{\"backgroundcolor\":\"white\",\"gridcolor\":\"#DFE8F3\",\"gridwidth\":2,\"linecolor\":\"#EBF0F8\",\"showbackground\":true,\"ticks\":\"\",\"zerolinecolor\":\"#EBF0F8\"},\"zaxis\":{\"backgroundcolor\":\"white\",\"gridcolor\":\"#DFE8F3\",\"gridwidth\":2,\"linecolor\":\"#EBF0F8\",\"showbackground\":true,\"ticks\":\"\",\"zerolinecolor\":\"#EBF0F8\"}},\"shapedefaults\":{\"line\":{\"color\":\"#2a3f5f\"}},\"ternary\":{\"aaxis\":{\"gridcolor\":\"#DFE8F3\",\"linecolor\":\"#A2B1C6\",\"ticks\":\"\"},\"baxis\":{\"gridcolor\":\"#DFE8F3\",\"linecolor\":\"#A2B1C6\",\"ticks\":\"\"},\"bgcolor\":\"white\",\"caxis\":{\"gridcolor\":\"#DFE8F3\",\"linecolor\":\"#A2B1C6\",\"ticks\":\"\"}},\"title\":{\"x\":0.05},\"xaxis\":{\"automargin\":true,\"gridcolor\":\"#EBF0F8\",\"linecolor\":\"#EBF0F8\",\"ticks\":\"\",\"title\":{\"standoff\":15},\"zerolinecolor\":\"#EBF0F8\",\"zerolinewidth\":2},\"yaxis\":{\"automargin\":true,\"gridcolor\":\"#EBF0F8\",\"linecolor\":\"#EBF0F8\",\"ticks\":\"\",\"title\":{\"standoff\":15},\"zerolinecolor\":\"#EBF0F8\",\"zerolinewidth\":2}}},\"title\":{\"text\":\"2D Word Embeddings (PCA) - 8 words\"},\"xaxis\":{\"title\":{\"text\":\"PC1 (Variance: 25.0%)\"}},\"yaxis\":{\"title\":{\"text\":\"PC2 (Variance: 24.7%)\"}}},                        {\"responsive\": true}                    ).then(function(){\n",
              "                            \n",
              "var gd = document.getElementById('c2892e6c-dfe4-4008-9fd9-5a84f8a7be1e');\n",
              "var x = new MutationObserver(function (mutations, observer) {{\n",
              "        var display = window.getComputedStyle(gd).display;\n",
              "        if (!display || display === 'none') {{\n",
              "            console.log([gd, 'removed!']);\n",
              "            Plotly.purge(gd);\n",
              "            observer.disconnect();\n",
              "        }}\n",
              "}});\n",
              "\n",
              "// Listen for the removal of the full notebook cells\n",
              "var notebookContainer = gd.closest('#notebook-container');\n",
              "if (notebookContainer) {{\n",
              "    x.observe(notebookContainer, {childList: true});\n",
              "}}\n",
              "\n",
              "// Listen for the clearing of the current output cell\n",
              "var outputEl = gd.closest('.output');\n",
              "if (outputEl) {{\n",
              "    x.observe(outputEl, {childList: true});\n",
              "}}\n",
              "\n",
              "                        })                };                            </script>        </div>\n",
              "</body>\n",
              "</html>"
            ]
          },
          "metadata": {}
        }
      ],
      "source": [
        "# 1. 导入所有必要的库\n",
        "import plotly.graph_objects as go\n",
        "from sklearn.decomposition import PCA\n",
        "import numpy as np\n",
        "\n",
        "# 2. 假设已有以下数据:\n",
        "# word_vector_pairs = [(word1, vec1), (word2, vec2), ...]\n",
        "# word_vectors = np.array([v for _, v in word_vector_pairs])\n",
        "\n",
        "# 3. PCA降维\n",
        "pca = PCA(n_components=2)\n",
        "embeddings_2d_pca = pca.fit_transform(word_vectors)\n",
        "\n",
        "# 4. 创建交互式可视化\n",
        "fig = go.Figure()\n",
        "\n",
        "for i, (word, _) in enumerate(word_vector_pairs):\n",
        "    fig.add_trace(\n",
        "        go.Scatter(\n",
        "            x=[embeddings_2d_pca[i, 0]],\n",
        "            y=[embeddings_2d_pca[i, 1]],\n",
        "            mode='markers+text',\n",
        "            text=[word],\n",
        "            textposition='top center',\n",
        "            marker=dict(size=10, color=i, colorscale='Viridis'),\n",
        "            name=word,\n",
        "            hoverinfo='text',\n",
        "            hovertext=f\"{word}<br>PC1: {embeddings_2d_pca[i, 0]:.3f}<br>PC2: {embeddings_2d_pca[i, 1]:.3f}\"\n",
        "        )\n",
        "    )\n",
        "\n",
        "fig.update_layout(\n",
        "    title=f\"2D Word Embeddings (PCA) - {len(word_vector_pairs)} words\",\n",
        "    xaxis_title=f\"PC1 (Variance: {pca.explained_variance_ratio_[0]*100:.1f}%)\",\n",
        "    yaxis_title=f\"PC2 (Variance: {pca.explained_variance_ratio_[1]*100:.1f}%)\",\n",
        "    template='plotly_white'\n",
        ")\n",
        "\n",
        "fig.show()"
      ]
    },
    {
      "cell_type": "markdown",
      "id": "2ewsPTZGg0Kp",
      "metadata": {
        "id": "2ewsPTZGg0Kp"
      },
      "source": [
        "# <font color ='#34B086'>**Using BERT**</font>"
      ]
    },
    {
      "cell_type": "markdown",
      "id": "_-jRImzo4D5t",
      "metadata": {
        "id": "_-jRImzo4D5t"
      },
      "source": [
        "Now let us try to use BERT and compare our results"
      ]
    },
    {
      "cell_type": "code",
      "execution_count": 12,
      "id": "492LSu55g4To",
      "metadata": {
        "id": "492LSu55g4To"
      },
      "outputs": [],
      "source": [
        "#using the transformers library\n",
        "from transformers import BertTokenizer, TFBertModel\n",
        "import tensorflow as tf"
      ]
    },
    {
      "cell_type": "markdown",
      "id": "v0oaQwVBhFHn",
      "metadata": {
        "id": "v0oaQwVBhFHn"
      },
      "source": [
        "### Generate Word Embeddings with BERT\n"
      ]
    },
    {
      "cell_type": "code",
      "execution_count": 13,
      "id": "5yFYcgJwhBDz",
      "metadata": {
        "colab": {
          "base_uri": "https://localhost:8080/",
          "height": 440,
          "referenced_widgets": [
            "8ded0d7075cc491f9cdb174f660d88e1",
            "66f83f1fe3b946b190eb151c86fa6d2b",
            "3c3502a347b2497c8627e250323392e4",
            "be24c6db48e148249d60d9bed0352a86",
            "8fd3c47846214233a638abf15efae23a",
            "002afd30dd6044a097a5883adfe25540",
            "a12edcb1aef14288a03c70ee8e3095f5",
            "cd340023dbbe4aad8eac9024ef762248",
            "e791ebb9c68a4c7298dc153f6b611905",
            "408c45ca4e094f6195182ea6349b1a2c",
            "8d8afabcb5c448ad842a89c51c528260",
            "81be672fd75c49f18208c74352911214",
            "9439c7701e6f4772aa75e1292e4a8b8b",
            "69c5e002647849ef81a132a00d83001a",
            "08228661e52140f0a571f06316b24471",
            "619754f7c429407eae4149973502f574",
            "67639ba398474edc9768ef51983a501b",
            "3a94e122a7254a31a105e8cedefa4121",
            "e12746ca5122413fb4422142743409a3",
            "1ab931d56dbb42cb9a028e6d8067b97a",
            "e0b7f35e25df47dbbc6cbfef48ee8364",
            "17b805678ef64f2789d726fc55bb0727",
            "90b8a83d017f494d9dc6b00d1c2a18d3",
            "a20054df2aa7455bb921441af387a394",
            "c4ddf9ad8d834afbb4bfe4e645dfc583",
            "1f92c0b1231a4df4bcb4d280c9ba96cc",
            "071cd1dcbbed4608900d371d08f7d144",
            "5bbcc69ad9464fc19312fad1e194df0a",
            "b80deee6704a4b9082330d0010525939",
            "f463be8d78644d29b68a4b744ca30794",
            "679e032578fe473da5fe6805b8ea35e1",
            "f1f8119b97244446acb382b4bbb3df81",
            "5ef5f9765cd544a887369f3b37b7c427",
            "50b63b741be74f899d809894cc0b1ce6",
            "5ccdfbb138ab4c0aa9126c260e45aceb",
            "12e8fd3199f24b6693acb618b524c08c",
            "e7ea9c2331264a449354294152cb6955",
            "e08d157aabf044b8abfbf67e590506b6",
            "8322618f997c4a35874a933c4d7c1136",
            "63b044158b5f4f9a9d97ff1a14aecb6a",
            "0ef1dd62208847b2941abdd2589ef6d5",
            "4d74c0c892644bf68c10990f07e7c924",
            "62b60019a30f4bc382db72c079b6a904",
            "8c820b59ef8a42829d1df0a8d1b3befb",
            "faf931df61334498af3b612487daa784",
            "1d8a799eae74435e8540902a5405b75f",
            "4990fd458cea42e88e1efd15de427103",
            "d66027d32a6d40c4b8a9a6e70c843482",
            "060c661f27124ffb8964aa879f41b36c",
            "7abb9f0d697c456f964de505747ea28e",
            "9609ce342853454a8e80ad7479dbaec2",
            "d16f194d32064e12abc2f6c53b5fe812",
            "04c935bfa3254af187b91ff18e0c99af",
            "33007c9c1bfa4fdd8dc001fd9e79dc35",
            "9f202eb2a3b64e0aaa121194be99862c"
          ]
        },
        "id": "5yFYcgJwhBDz",
        "outputId": "c49f73e7-dc13-406e-ffbf-dad91498d1f5"
      },
      "outputs": [
        {
          "output_type": "stream",
          "name": "stderr",
          "text": [
            "/usr/local/lib/python3.11/dist-packages/huggingface_hub/utils/_auth.py:94: UserWarning:\n",
            "\n",
            "\n",
            "The secret `HF_TOKEN` does not exist in your Colab secrets.\n",
            "To authenticate with the Hugging Face Hub, create a token in your settings tab (https://huggingface.co/settings/tokens), set it as secret in your Google Colab and restart your session.\n",
            "You will be able to reuse this secret in all of your notebooks.\n",
            "Please note that authentication is recommended but still optional to access public models or datasets.\n",
            "\n"
          ]
        },
        {
          "output_type": "display_data",
          "data": {
            "text/plain": [
              "tokenizer_config.json:   0%|          | 0.00/48.0 [00:00<?, ?B/s]"
            ],
            "application/vnd.jupyter.widget-view+json": {
              "version_major": 2,
              "version_minor": 0,
              "model_id": "8ded0d7075cc491f9cdb174f660d88e1"
            }
          },
          "metadata": {}
        },
        {
          "output_type": "display_data",
          "data": {
            "text/plain": [
              "vocab.txt:   0%|          | 0.00/232k [00:00<?, ?B/s]"
            ],
            "application/vnd.jupyter.widget-view+json": {
              "version_major": 2,
              "version_minor": 0,
              "model_id": "81be672fd75c49f18208c74352911214"
            }
          },
          "metadata": {}
        },
        {
          "output_type": "display_data",
          "data": {
            "text/plain": [
              "tokenizer.json:   0%|          | 0.00/466k [00:00<?, ?B/s]"
            ],
            "application/vnd.jupyter.widget-view+json": {
              "version_major": 2,
              "version_minor": 0,
              "model_id": "90b8a83d017f494d9dc6b00d1c2a18d3"
            }
          },
          "metadata": {}
        },
        {
          "output_type": "display_data",
          "data": {
            "text/plain": [
              "config.json:   0%|          | 0.00/570 [00:00<?, ?B/s]"
            ],
            "application/vnd.jupyter.widget-view+json": {
              "version_major": 2,
              "version_minor": 0,
              "model_id": "50b63b741be74f899d809894cc0b1ce6"
            }
          },
          "metadata": {}
        },
        {
          "output_type": "display_data",
          "data": {
            "text/plain": [
              "model.safetensors:   0%|          | 0.00/440M [00:00<?, ?B/s]"
            ],
            "application/vnd.jupyter.widget-view+json": {
              "version_major": 2,
              "version_minor": 0,
              "model_id": "faf931df61334498af3b612487daa784"
            }
          },
          "metadata": {}
        },
        {
          "output_type": "stream",
          "name": "stderr",
          "text": [
            "TensorFlow and JAX classes are deprecated and will be removed in Transformers v5. We recommend migrating to PyTorch classes or pinning your version of Transformers.\n",
            "Some weights of the PyTorch model were not used when initializing the TF 2.0 model TFBertModel: ['cls.predictions.transform.dense.weight', 'cls.predictions.bias', 'cls.seq_relationship.bias', 'cls.predictions.transform.dense.bias', 'cls.predictions.transform.LayerNorm.weight', 'cls.seq_relationship.weight', 'cls.predictions.transform.LayerNorm.bias']\n",
            "- This IS expected if you are initializing TFBertModel from a PyTorch model trained on another task or with another architecture (e.g. initializing a TFBertForSequenceClassification model from a BertForPreTraining model).\n",
            "- This IS NOT expected if you are initializing TFBertModel from a PyTorch model that you expect to be exactly identical (e.g. initializing a TFBertForSequenceClassification model from a BertForSequenceClassification model).\n",
            "All the weights of TFBertModel were initialized from the PyTorch model.\n",
            "If your task is similar to the task the model of the checkpoint was trained on, you can already use TFBertModel for predictions without further training.\n"
          ]
        }
      ],
      "source": [
        "# Load BERT Model and Tokenizer\n",
        "tokenizer = BertTokenizer.from_pretrained('bert-base-uncased')\n",
        "model_bert = TFBertModel.from_pretrained('bert-base-uncased')"
      ]
    },
    {
      "cell_type": "markdown",
      "id": "iCMs8lMP70sJ",
      "metadata": {
        "id": "iCMs8lMP70sJ"
      },
      "source": [
        "##### (Note: You can safely ignore these warning we do not need a HF_TOKEN for our use case right now and we do not need extra weights as we are not training.)"
      ]
    },
    {
      "cell_type": "markdown",
      "id": "_AgMHJJ8hInK",
      "metadata": {
        "id": "_AgMHJJ8hInK"
      },
      "source": [
        "### Tokenize sentences and get embeddings"
      ]
    },
    {
      "cell_type": "code",
      "execution_count": 14,
      "id": "hBroBnaJg42h",
      "metadata": {
        "id": "hBroBnaJg42h"
      },
      "outputs": [],
      "source": [
        "#let's create a function to get our embeddings\n",
        "def get_bert_embeddings(sentences):\n",
        "    inputs = tokenizer(sentences, return_tensors='tf', padding=True, truncation=True, max_length=128)\n",
        "    outputs = model_bert(inputs)\n",
        "    embeddings = outputs.last_hidden_state #these are the ebeddings!\n",
        "    return embeddings"
      ]
    },
    {
      "cell_type": "code",
      "execution_count": 17,
      "id": "QmJUNzOwhNdE",
      "metadata": {
        "id": "QmJUNzOwhNdE",
        "colab": {
          "base_uri": "https://localhost:8080/"
        },
        "outputId": "a39a93c0-81bf-4759-8b7b-97a24d298097"
      },
      "outputs": [
        {
          "output_type": "stream",
          "name": "stdout",
          "text": [
            "获取到 3 个句子的嵌入\n",
            "嵌入张量形状: torch.Size([3, 16, 768])\n"
          ]
        }
      ],
      "source": [
        "# 1. 首先定义要分析的句子列表\n",
        "sentences = [\n",
        "    \"This is an example sentence for BERT embeddings.\",\n",
        "    \"BERT can generate contextualized word embeddings.\",\n",
        "    \"The embeddings will capture the meaning of words in context.\"\n",
        "]\n",
        "\n",
        "# 2. 确保 get_bert_embeddings 函数可用\n",
        "# 如果你使用的是transformers库，可以这样定义：\n",
        "from transformers import BertTokenizer, BertModel\n",
        "import torch\n",
        "\n",
        "def get_bert_embeddings(sentences):\n",
        "    # 加载预训练BERT模型和tokenizer\n",
        "    tokenizer = BertTokenizer.from_pretrained('bert-base-uncased')\n",
        "    model = BertModel.from_pretrained('bert-base-uncased')\n",
        "\n",
        "    # 对句子进行编码并获取嵌入\n",
        "    inputs = tokenizer(sentences, return_tensors=\"pt\", padding=True, truncation=True)\n",
        "    with torch.no_grad():\n",
        "        outputs = model(**inputs)\n",
        "\n",
        "    # 返回最后一层的隐藏状态（即词嵌入）\n",
        "    return outputs.last_hidden_state\n",
        "\n",
        "# 3. 现在可以获取嵌入\n",
        "embeddings = get_bert_embeddings(sentences)\n",
        "print(f\"获取到 {len(sentences)} 个句子的嵌入\")\n",
        "print(f\"嵌入张量形状: {embeddings.shape}\")  # 应该是 (句子数, 最大token数, 嵌入维度)"
      ]
    },
    {
      "cell_type": "code",
      "execution_count": 18,
      "id": "kRC4UC0vhQW2",
      "metadata": {
        "colab": {
          "base_uri": "https://localhost:8080/",
          "height": 641
        },
        "id": "kRC4UC0vhQW2",
        "outputId": "2dd18f44-f8de-4569-a951-eeb87be2ed2a"
      },
      "outputs": [
        {
          "output_type": "display_data",
          "data": {
            "text/plain": [
              "<Figure size 1000x700 with 1 Axes>"
            ],
            "image/png": "[encoded data removed]"
          },
          "metadata": {}
        }
      ],
      "source": [
        "#@title ###**Plotting 2D BERT embeings using matplotlib**\n",
        "# Extract embeddings for each word\n",
        "word_vectors = []\n",
        "labels = []\n",
        "colors = []\n",
        "\n",
        "# Define a color for each sentence\n",
        "color_map = {\n",
        "    0: 'r', 1: 'g', 2: 'b', 3: 'c', 4: 'm', 5: 'y'\n",
        "}\n",
        "\n",
        "for i, sentence in enumerate(sentences):\n",
        "    tokens = tokenizer.tokenize(sentence)\n",
        "    for j, token in enumerate(tokens):\n",
        "        word_vectors.append(embeddings[i][j].numpy())\n",
        "        labels.append(token)\n",
        "        colors.append(color_map[i])\n",
        "\n",
        "# Dimensionality Reduction\n",
        "# Apply PCA\n",
        "pca = PCA(n_components=2)\n",
        "word_vectors_2d = pca.fit_transform(word_vectors)\n",
        "\n",
        "# Interactive Visualization\n",
        "# Initialize Plot\n",
        "plt.figure(figsize=(10, 7))\n",
        "scatter_plots = []\n",
        "unique_colors = set(colors)\n",
        "for color in unique_colors:\n",
        "    indices = [i for i, c in enumerate(colors) if c == color]\n",
        "    scatter = plt.scatter(word_vectors_2d[indices, 0], word_vectors_2d[indices, 1], c=color, label=f\"Sentence {list(color_map.keys())[list(color_map.values()).index(color)] + 1}\")\n",
        "    scatter_plots.append(scatter)\n",
        "\n",
        "# Add text labels for each word\n",
        "for i, label in enumerate(labels):\n",
        "    x, y = word_vectors_2d[i, :]\n",
        "    plt.text(x + 0.03, y + 0.03, label, fontsize=9)\n",
        "\n",
        "# Create a legend\n",
        "plt.legend(loc=\"best\")\n",
        "\n",
        "plt.title(\"2D BERT Contextualised Embeddings Visualization\")\n",
        "plt.xlabel(\"PCA Component 1\")\n",
        "plt.ylabel(\"PCA Component 2\")\n",
        "\n",
        "plt.show()"
      ]
    },
    {
      "cell_type": "markdown",
      "id": "RAdSp4r6jkpY",
      "metadata": {
        "id": "RAdSp4r6jkpY"
      },
      "source": [
        "### let's try plotly version to see overlapping points better"
      ]
    },
    {
      "cell_type": "code",
      "execution_count": 19,
      "id": "WeToyFYKjkcD",
      "metadata": {
        "cellView": "form",
        "colab": {
          "base_uri": "https://localhost:8080/",
          "height": 542
        },
        "id": "WeToyFYKjkcD",
        "outputId": "65bfc762-5252-46aa-cc33-d6004a412da3"
      },
      "outputs": [
        {
          "output_type": "display_data",
          "data": {
            "text/html": [
              "<html>\n",
              "<head><meta charset=\"utf-8\" /></head>\n",
              "<body>\n",
              "    <div>            <script src=\"https://cdnjs.cloudflare.com/ajax/libs/mathjax/2.7.5/MathJax.js?config=TeX-AMS-MML_SVG\"></script><script type=\"text/javascript\">if (window.MathJax && window.MathJax.Hub && window.MathJax.Hub.Config) {window.MathJax.Hub.Config({SVG: {font: \"STIX-Web\"}});}</script>                <script type=\"text/javascript\">window.PlotlyConfig = {MathJaxConfig: 'local'};</script>\n",
              "        <script charset=\"utf-8\" src=\"https://cdn.plot.ly/plotly-2.35.2.min.js\"></script>                <div id=\"b03be141-9d02-4791-9a68-882ee32110e5\" class=\"plotly-graph-div\" style=\"height:525px; width:100%;\"></div>            <script type=\"text/javascript\">                                    window.PLOTLYENV=window.PLOTLYENV || {};                                    if (document.getElementById(\"b03be141-9d02-4791-9a68-882ee32110e5\")) {                    Plotly.newPlot(                        \"b03be141-9d02-4791-9a68-882ee32110e5\",                        [{\"marker\":{\"color\":\"red\"},\"mode\":\"markers+text\",\"name\":\"this\",\"text\":[\"this\"],\"textposition\":\"top center\",\"x\":[-12.442958346121456],\"y\":[-2.7864760563906312],\"type\":\"scatter\"},{\"marker\":{\"color\":\"red\"},\"mode\":\"markers+text\",\"name\":\"is\",\"text\":[\"is\"],\"textposition\":\"top center\",\"x\":[-6.351986571363991],\"y\":[8.630344448503424],\"type\":\"scatter\"},{\"marker\":{\"color\":\"red\"},\"mode\":\"markers+text\",\"name\":\"an\",\"text\":[\"an\"],\"textposition\":\"top center\",\"x\":[-2.7108957422033906],\"y\":[11.033087634674104],\"type\":\"scatter\"},{\"marker\":{\"color\":\"red\"},\"mode\":\"markers+text\",\"name\":\"example\",\"text\":[\"example\"],\"textposition\":\"top center\",\"x\":[-3.0509686018630675],\"y\":[10.662946340022117],\"type\":\"scatter\"},{\"marker\":{\"color\":\"red\"},\"mode\":\"markers+text\",\"name\":\"sentence\",\"text\":[\"sentence\"],\"textposition\":\"top center\",\"x\":[-1.1150006742545469],\"y\":[9.579572438358483],\"type\":\"scatter\"},{\"marker\":{\"color\":\"red\"},\"mode\":\"markers+text\",\"name\":\"for\",\"text\":[\"for\"],\"textposition\":\"top center\",\"x\":[-0.31356384810698146],\"y\":[6.698072472622966],\"type\":\"scatter\"},{\"marker\":{\"color\":\"red\"},\"mode\":\"markers+text\",\"name\":\"bert\",\"text\":[\"bert\"],\"textposition\":\"top center\",\"x\":[-1.4260785109250882],\"y\":[4.5274931703159895],\"type\":\"scatter\"},{\"marker\":{\"color\":\"red\"},\"mode\":\"markers+text\",\"name\":\"em\",\"text\":[\"em\"],\"textposition\":\"top center\",\"x\":[-4.727797482629487],\"y\":[-0.028504918830781358],\"type\":\"scatter\"},{\"marker\":{\"color\":\"red\"},\"mode\":\"markers+text\",\"name\":\"##bed\",\"text\":[\"##bed\"],\"textposition\":\"top center\",\"x\":[3.3784546460467637],\"y\":[2.141820269659453],\"type\":\"scatter\"},{\"marker\":{\"color\":\"red\"},\"mode\":\"markers+text\",\"name\":\"##ding\",\"text\":[\"##ding\"],\"textposition\":\"top center\",\"x\":[4.027587173987815],\"y\":[-0.025820604892107513],\"type\":\"scatter\"},{\"marker\":{\"color\":\"red\"},\"mode\":\"markers+text\",\"name\":\"##s\",\"text\":[\"##s\"],\"textposition\":\"top center\",\"x\":[3.4542980119691316],\"y\":[1.1871063759621114],\"type\":\"scatter\"},{\"marker\":{\"color\":\"red\"},\"mode\":\"markers+text\",\"name\":\".\",\"text\":[\".\"],\"textposition\":\"top center\",\"x\":[2.2277032222152373],\"y\":[3.0174992383571393],\"type\":\"scatter\"},{\"marker\":{\"color\":\"green\"},\"mode\":\"markers+text\",\"name\":\"bert\",\"text\":[\"bert\"],\"textposition\":\"top center\",\"x\":[-11.538993608847038],\"y\":[-5.515390063679478],\"type\":\"scatter\"},{\"marker\":{\"color\":\"green\"},\"mode\":\"markers+text\",\"name\":\"can\",\"text\":[\"can\"],\"textposition\":\"top center\",\"x\":[-6.099078616887659],\"y\":[-1.7295989046571796],\"type\":\"scatter\"},{\"marker\":{\"color\":\"green\"},\"mode\":\"markers+text\",\"name\":\"generate\",\"text\":[\"generate\"],\"textposition\":\"top center\",\"x\":[-0.6451129664600479],\"y\":[2.326919149795809],\"type\":\"scatter\"},{\"marker\":{\"color\":\"green\"},\"mode\":\"markers+text\",\"name\":\"context\",\"text\":[\"context\"],\"textposition\":\"top center\",\"x\":[0.09945614561906574],\"y\":[-0.4839778030209921],\"type\":\"scatter\"},{\"marker\":{\"color\":\"green\"},\"mode\":\"markers+text\",\"name\":\"##ual\",\"text\":[\"##ual\"],\"textposition\":\"top center\",\"x\":[5.162517438947216],\"y\":[-1.793433432883833],\"type\":\"scatter\"},{\"marker\":{\"color\":\"green\"},\"mode\":\"markers+text\",\"name\":\"##ized\",\"text\":[\"##ized\"],\"textposition\":\"top center\",\"x\":[6.09919312681968],\"y\":[-1.4249955067413425],\"type\":\"scatter\"},{\"marker\":{\"color\":\"green\"},\"mode\":\"markers+text\",\"name\":\"word\",\"text\":[\"word\"],\"textposition\":\"top center\",\"x\":[4.20814691914142],\"y\":[-0.5988889924374746],\"type\":\"scatter\"},{\"marker\":{\"color\":\"green\"},\"mode\":\"markers+text\",\"name\":\"em\",\"text\":[\"em\"],\"textposition\":\"top center\",\"x\":[1.095800209767469],\"y\":[-1.6216472830017516],\"type\":\"scatter\"},{\"marker\":{\"color\":\"green\"},\"mode\":\"markers+text\",\"name\":\"##bed\",\"text\":[\"##bed\"],\"textposition\":\"top center\",\"x\":[6.690829640540456],\"y\":[-0.8085687528244601],\"type\":\"scatter\"},{\"marker\":{\"color\":\"green\"},\"mode\":\"markers+text\",\"name\":\"##ding\",\"text\":[\"##ding\"],\"textposition\":\"top center\",\"x\":[7.00777490755117],\"y\":[-1.954264805875478],\"type\":\"scatter\"},{\"marker\":{\"color\":\"green\"},\"mode\":\"markers+text\",\"name\":\"##s\",\"text\":[\"##s\"],\"textposition\":\"top center\",\"x\":[6.3962008494532],\"y\":[-1.0368590169145082],\"type\":\"scatter\"},{\"marker\":{\"color\":\"green\"},\"mode\":\"markers+text\",\"name\":\".\",\"text\":[\".\"],\"textposition\":\"top center\",\"x\":[4.91936196268528],\"y\":[0.4045851019243302],\"type\":\"scatter\"},{\"marker\":{\"color\":\"blue\"},\"mode\":\"markers+text\",\"name\":\"the\",\"text\":[\"the\"],\"textposition\":\"top center\",\"x\":[-11.444806556699131],\"y\":[-6.820634249695651],\"type\":\"scatter\"},{\"marker\":{\"color\":\"blue\"},\"mode\":\"markers+text\",\"name\":\"em\",\"text\":[\"em\"],\"textposition\":\"top center\",\"x\":[-2.538354495772999],\"y\":[-2.639351379087496],\"type\":\"scatter\"},{\"marker\":{\"color\":\"blue\"},\"mode\":\"markers+text\",\"name\":\"##bed\",\"text\":[\"##bed\"],\"textposition\":\"top center\",\"x\":[3.614256464296097],\"y\":[-2.9295281151193677],\"type\":\"scatter\"},{\"marker\":{\"color\":\"blue\"},\"mode\":\"markers+text\",\"name\":\"##ding\",\"text\":[\"##ding\"],\"textposition\":\"top center\",\"x\":[4.946572386424026],\"y\":[-2.8617642040819304],\"type\":\"scatter\"},{\"marker\":{\"color\":\"blue\"},\"mode\":\"markers+text\",\"name\":\"##s\",\"text\":[\"##s\"],\"textposition\":\"top center\",\"x\":[3.27434002024272],\"y\":[-2.5791905580046066],\"type\":\"scatter\"},{\"marker\":{\"color\":\"blue\"},\"mode\":\"markers+text\",\"name\":\"will\",\"text\":[\"will\"],\"textposition\":\"top center\",\"x\":[1.2470949946121506],\"y\":[-1.569825628742336],\"type\":\"scatter\"},{\"marker\":{\"color\":\"blue\"},\"mode\":\"markers+text\",\"name\":\"capture\",\"text\":[\"capture\"],\"textposition\":\"top center\",\"x\":[-4.288209503053],\"y\":[-1.819891605406204],\"type\":\"scatter\"},{\"marker\":{\"color\":\"blue\"},\"mode\":\"markers+text\",\"name\":\"the\",\"text\":[\"the\"],\"textposition\":\"top center\",\"x\":[-2.0439495919265975],\"y\":[-3.495215065750716],\"type\":\"scatter\"},{\"marker\":{\"color\":\"blue\"},\"mode\":\"markers+text\",\"name\":\"meaning\",\"text\":[\"meaning\"],\"textposition\":\"top center\",\"x\":[0.865441341687763],\"y\":[-2.348867300260236],\"type\":\"scatter\"},{\"marker\":{\"color\":\"blue\"},\"mode\":\"markers+text\",\"name\":\"of\",\"text\":[\"of\"],\"textposition\":\"top center\",\"x\":[0.3909154654884073],\"y\":[-3.294435345324037],\"type\":\"scatter\"},{\"marker\":{\"color\":\"blue\"},\"mode\":\"markers+text\",\"name\":\"words\",\"text\":[\"words\"],\"textposition\":\"top center\",\"x\":[1.7444818421906603],\"y\":[-1.9893500192052924],\"type\":\"scatter\"},{\"marker\":{\"color\":\"blue\"},\"mode\":\"markers+text\",\"name\":\"in\",\"text\":[\"in\"],\"textposition\":\"top center\",\"x\":[-0.09659264477817987],\"y\":[-2.3781922324440536],\"type\":\"scatter\"},{\"marker\":{\"color\":\"blue\"},\"mode\":\"markers+text\",\"name\":\"context\",\"text\":[\"context\"],\"textposition\":\"top center\",\"x\":[-0.5764023125717891],\"y\":[-1.9966730397504928],\"type\":\"scatter\"},{\"marker\":{\"color\":\"blue\"},\"mode\":\"markers+text\",\"name\":\".\",\"text\":[\".\"],\"textposition\":\"top center\",\"x\":[0.5603233047787047],\"y\":[-3.6781017551734743],\"type\":\"scatter\"}],                        {\"template\":{\"data\":{\"histogram2dcontour\":[{\"type\":\"histogram2dcontour\",\"colorbar\":{\"outlinewidth\":0,\"ticks\":\"\"},\"colorscale\":[[0.0,\"#0d0887\"],[0.1111111111111111,\"#46039f\"],[0.2222222222222222,\"#7201a8\"],[0.3333333333333333,\"#9c179e\"],[0.4444444444444444,\"#bd3786\"],[0.5555555555555556,\"#d8576b\"],[0.6666666666666666,\"#ed7953\"],[0.7777777777777778,\"#fb9f3a\"],[0.8888888888888888,\"#fdca26\"],[1.0,\"#f0f921\"]]}],\"choropleth\":[{\"type\":\"choropleth\",\"colorbar\":{\"outlinewidth\":0,\"ticks\":\"\"}}],\"histogram2d\":[{\"type\":\"histogram2d\",\"colorbar\":{\"outlinewidth\":0,\"ticks\":\"\"},\"colorscale\":[[0.0,\"#0d0887\"],[0.1111111111111111,\"#46039f\"],[0.2222222222222222,\"#7201a8\"],[0.3333333333333333,\"#9c179e\"],[0.4444444444444444,\"#bd3786\"],[0.5555555555555556,\"#d8576b\"],[0.6666666666666666,\"#ed7953\"],[0.7777777777777778,\"#fb9f3a\"],[0.8888888888888888,\"#fdca26\"],[1.0,\"#f0f921\"]]}],\"heatmap\":[{\"type\":\"heatmap\",\"colorbar\":{\"outlinewidth\":0,\"ticks\":\"\"},\"colorscale\":[[0.0,\"#0d0887\"],[0.1111111111111111,\"#46039f\"],[0.2222222222222222,\"#7201a8\"],[0.3333333333333333,\"#9c179e\"],[0.4444444444444444,\"#bd3786\"],[0.5555555555555556,\"#d8576b\"],[0.6666666666666666,\"#ed7953\"],[0.7777777777777778,\"#fb9f3a\"],[0.8888888888888888,\"#fdca26\"],[1.0,\"#f0f921\"]]}],\"heatmapgl\":[{\"type\":\"heatmapgl\",\"colorbar\":{\"outlinewidth\":0,\"ticks\":\"\"},\"colorscale\":[[0.0,\"#0d0887\"],[0.1111111111111111,\"#46039f\"],[0.2222222222222222,\"#7201a8\"],[0.3333333333333333,\"#9c179e\"],[0.4444444444444444,\"#bd3786\"],[0.5555555555555556,\"#d8576b\"],[0.6666666666666666,\"#ed7953\"],[0.7777777777777778,\"#fb9f3a\"],[0.8888888888888888,\"#fdca26\"],[1.0,\"#f0f921\"]]}],\"contourcarpet\":[{\"type\":\"contourcarpet\",\"colorbar\":{\"outlinewidth\":0,\"ticks\":\"\"}}],\"contour\":[{\"type\":\"contour\",\"colorbar\":{\"outlinewidth\":0,\"ticks\":\"\"},\"colorscale\":[[0.0,\"#0d0887\"],[0.1111111111111111,\"#46039f\"],[0.2222222222222222,\"#7201a8\"],[0.3333333333333333,\"#9c179e\"],[0.4444444444444444,\"#bd3786\"],[0.5555555555555556,\"#d8576b\"],[0.6666666666666666,\"#ed7953\"],[0.7777777777777778,\"#fb9f3a\"],[0.8888888888888888,\"#fdca26\"],[1.0,\"#f0f921\"]]}],\"surface\":[{\"type\":\"surface\",\"colorbar\":{\"outlinewidth\":0,\"ticks\":\"\"},\"colorscale\":[[0.0,\"#0d0887\"],[0.1111111111111111,\"#46039f\"],[0.2222222222222222,\"#7201a8\"],[0.3333333333333333,\"#9c179e\"],[0.4444444444444444,\"#bd3786\"],[0.5555555555555556,\"#d8576b\"],[0.6666666666666666,\"#ed7953\"],[0.7777777777777778,\"#fb9f3a\"],[0.8888888888888888,\"#fdca26\"],[1.0,\"#f0f921\"]]}],\"mesh3d\":[{\"type\":\"mesh3d\",\"colorbar\":{\"outlinewidth\":0,\"ticks\":\"\"}}],\"scatter\":[{\"fillpattern\":{\"fillmode\":\"overlay\",\"size\":10,\"solidity\":0.2},\"type\":\"scatter\"}],\"parcoords\":[{\"type\":\"parcoords\",\"line\":{\"colorbar\":{\"outlinewidth\":0,\"ticks\":\"\"}}}],\"scatterpolargl\":[{\"type\":\"scatterpolargl\",\"marker\":{\"colorbar\":{\"outlinewidth\":0,\"ticks\":\"\"}}}],\"bar\":[{\"error_x\":{\"color\":\"#2a3f5f\"},\"error_y\":{\"color\":\"#2a3f5f\"},\"marker\":{\"line\":{\"color\":\"#E5ECF6\",\"width\":0.5},\"pattern\":{\"fillmode\":\"overlay\",\"size\":10,\"solidity\":0.2}},\"type\":\"bar\"}],\"scattergeo\":[{\"type\":\"scattergeo\",\"marker\":{\"colorbar\":{\"outlinewidth\":0,\"ticks\":\"\"}}}],\"scatterpolar\":[{\"type\":\"scatterpolar\",\"marker\":{\"colorbar\":{\"outlinewidth\":0,\"ticks\":\"\"}}}],\"histogram\":[{\"marker\":{\"pattern\":{\"fillmode\":\"overlay\",\"size\":10,\"solidity\":0.2}},\"type\":\"histogram\"}],\"scattergl\":[{\"type\":\"scattergl\",\"marker\":{\"colorbar\":{\"outlinewidth\":0,\"ticks\":\"\"}}}],\"scatter3d\":[{\"type\":\"scatter3d\",\"line\":{\"colorbar\":{\"outlinewidth\":0,\"ticks\":\"\"}},\"marker\":{\"colorbar\":{\"outlinewidth\":0,\"ticks\":\"\"}}}],\"scattermapbox\":[{\"type\":\"scattermapbox\",\"marker\":{\"colorbar\":{\"outlinewidth\":0,\"ticks\":\"\"}}}],\"scatterternary\":[{\"type\":\"scatterternary\",\"marker\":{\"colorbar\":{\"outlinewidth\":0,\"ticks\":\"\"}}}],\"scattercarpet\":[{\"type\":\"scattercarpet\",\"marker\":{\"colorbar\":{\"outlinewidth\":0,\"ticks\":\"\"}}}],\"carpet\":[{\"aaxis\":{\"endlinecolor\":\"#2a3f5f\",\"gridcolor\":\"white\",\"linecolor\":\"white\",\"minorgridcolor\":\"white\",\"startlinecolor\":\"#2a3f5f\"},\"baxis\":{\"endlinecolor\":\"#2a3f5f\",\"gridcolor\":\"white\",\"linecolor\":\"white\",\"minorgridcolor\":\"white\",\"startlinecolor\":\"#2a3f5f\"},\"type\":\"carpet\"}],\"table\":[{\"cells\":{\"fill\":{\"color\":\"#EBF0F8\"},\"line\":{\"color\":\"white\"}},\"header\":{\"fill\":{\"color\":\"#C8D4E3\"},\"line\":{\"color\":\"white\"}},\"type\":\"table\"}],\"barpolar\":[{\"marker\":{\"line\":{\"color\":\"#E5ECF6\",\"width\":0.5},\"pattern\":{\"fillmode\":\"overlay\",\"size\":10,\"solidity\":0.2}},\"type\":\"barpolar\"}],\"pie\":[{\"automargin\":true,\"type\":\"pie\"}]},\"layout\":{\"autotypenumbers\":\"strict\",\"colorway\":[\"#636efa\",\"#EF553B\",\"#00cc96\",\"#ab63fa\",\"#FFA15A\",\"#19d3f3\",\"#FF6692\",\"#B6E880\",\"#FF97FF\",\"#FECB52\"],\"font\":{\"color\":\"#2a3f5f\"},\"hovermode\":\"closest\",\"hoverlabel\":{\"align\":\"left\"},\"paper_bgcolor\":\"white\",\"plot_bgcolor\":\"#E5ECF6\",\"polar\":{\"bgcolor\":\"#E5ECF6\",\"angularaxis\":{\"gridcolor\":\"white\",\"linecolor\":\"white\",\"ticks\":\"\"},\"radialaxis\":{\"gridcolor\":\"white\",\"linecolor\":\"white\",\"ticks\":\"\"}},\"ternary\":{\"bgcolor\":\"#E5ECF6\",\"aaxis\":{\"gridcolor\":\"white\",\"linecolor\":\"white\",\"ticks\":\"\"},\"baxis\":{\"gridcolor\":\"white\",\"linecolor\":\"white\",\"ticks\":\"\"},\"caxis\":{\"gridcolor\":\"white\",\"linecolor\":\"white\",\"ticks\":\"\"}},\"coloraxis\":{\"colorbar\":{\"outlinewidth\":0,\"ticks\":\"\"}},\"colorscale\":{\"sequential\":[[0.0,\"#0d0887\"],[0.1111111111111111,\"#46039f\"],[0.2222222222222222,\"#7201a8\"],[0.3333333333333333,\"#9c179e\"],[0.4444444444444444,\"#bd3786\"],[0.5555555555555556,\"#d8576b\"],[0.6666666666666666,\"#ed7953\"],[0.7777777777777778,\"#fb9f3a\"],[0.8888888888888888,\"#fdca26\"],[1.0,\"#f0f921\"]],\"sequentialminus\":[[0.0,\"#0d0887\"],[0.1111111111111111,\"#46039f\"],[0.2222222222222222,\"#7201a8\"],[0.3333333333333333,\"#9c179e\"],[0.4444444444444444,\"#bd3786\"],[0.5555555555555556,\"#d8576b\"],[0.6666666666666666,\"#ed7953\"],[0.7777777777777778,\"#fb9f3a\"],[0.8888888888888888,\"#fdca26\"],[1.0,\"#f0f921\"]],\"diverging\":[[0,\"#8e0152\"],[0.1,\"#c51b7d\"],[0.2,\"#de77ae\"],[0.3,\"#f1b6da\"],[0.4,\"#fde0ef\"],[0.5,\"#f7f7f7\"],[0.6,\"#e6f5d0\"],[0.7,\"#b8e186\"],[0.8,\"#7fbc41\"],[0.9,\"#4d9221\"],[1,\"#276419\"]]},\"xaxis\":{\"gridcolor\":\"white\",\"linecolor\":\"white\",\"ticks\":\"\",\"title\":{\"standoff\":15},\"zerolinecolor\":\"white\",\"automargin\":true,\"zerolinewidth\":2},\"yaxis\":{\"gridcolor\":\"white\",\"linecolor\":\"white\",\"ticks\":\"\",\"title\":{\"standoff\":15},\"zerolinecolor\":\"white\",\"automargin\":true,\"zerolinewidth\":2},\"scene\":{\"xaxis\":{\"backgroundcolor\":\"#E5ECF6\",\"gridcolor\":\"white\",\"linecolor\":\"white\",\"showbackground\":true,\"ticks\":\"\",\"zerolinecolor\":\"white\",\"gridwidth\":2},\"yaxis\":{\"backgroundcolor\":\"#E5ECF6\",\"gridcolor\":\"white\",\"linecolor\":\"white\",\"showbackground\":true,\"ticks\":\"\",\"zerolinecolor\":\"white\",\"gridwidth\":2},\"zaxis\":{\"backgroundcolor\":\"#E5ECF6\",\"gridcolor\":\"white\",\"linecolor\":\"white\",\"showbackground\":true,\"ticks\":\"\",\"zerolinecolor\":\"white\",\"gridwidth\":2}},\"shapedefaults\":{\"line\":{\"color\":\"#2a3f5f\"}},\"annotationdefaults\":{\"arrowcolor\":\"#2a3f5f\",\"arrowhead\":0,\"arrowwidth\":1},\"geo\":{\"bgcolor\":\"white\",\"landcolor\":\"#E5ECF6\",\"subunitcolor\":\"white\",\"showland\":true,\"showlakes\":true,\"lakecolor\":\"white\"},\"title\":{\"x\":0.05},\"mapbox\":{\"style\":\"light\"}}},\"title\":{\"text\":\"2D BERT Contextualised Embeddings Visualization\"},\"xaxis\":{\"title\":{\"text\":\"PCA Component 1\"}},\"yaxis\":{\"title\":{\"text\":\"PCA Component 2\"}},\"updatemenus\":[{\"buttons\":[{\"args\":[{\"visible\":[false,false,false,false,false,false,false,false,false,false,false,false,false,false,false,false,false,false,false,false,false,false,false,false,false,false,false,false,false,false,false,false,false,false,false,false,false,false]}],\"label\":\"Sentence 5\",\"method\":\"update\"},{\"args\":[{\"visible\":[false,false,false,false,false,false,false,false,false,false,false,false,false,false,false,false,false,false,false,false,false,false,false,false,false,false,false,false,false,false,false,false,false,false,false,false,false,false]}],\"label\":\"Sentence 4\",\"method\":\"update\"},{\"args\":[{\"visible\":[true,true,true,true,true,true,true,true,true,true,true,true,false,false,false,false,false,false,false,false,false,false,false,false,false,false,false,false,false,false,false,false,false,false,false,false,false,false]}],\"label\":\"Sentence 1\",\"method\":\"update\"},{\"args\":[{\"visible\":[false,false,false,false,false,false,false,false,false,false,false,false,false,false,false,false,false,false,false,false,false,false,false,false,false,false,false,false,false,false,false,false,false,false,false,false,false,false]}],\"label\":\"Sentence 6\",\"method\":\"update\"},{\"args\":[{\"visible\":[false,false,false,false,false,false,false,false,false,false,false,false,false,false,false,false,false,false,false,false,false,false,false,false,true,true,true,true,true,true,true,true,true,true,true,true,true,true]}],\"label\":\"Sentence 3\",\"method\":\"update\"},{\"args\":[{\"visible\":[false,false,false,false,false,false,false,false,false,false,false,false,true,true,true,true,true,true,true,true,true,true,true,true,false,false,false,false,false,false,false,false,false,false,false,false,false,false]}],\"label\":\"Sentence 2\",\"method\":\"update\"},{\"args\":[{\"visible\":[true,true,true,true,true,true,true,true,true,true,true,true,true,true,true,true,true,true,true,true,true,true,true,true,true,true,true,true,true,true,true,true,true,true,true,true,true,true]}],\"label\":\"Show All\",\"method\":\"update\"},{\"args\":[{\"visible\":[false,false,false,false,false,false,false,false,false,false,false,false,false,false,false,false,false,false,false,false,false,false,false,false,false,false,false,false,false,false,false,false,false,false,false,false,false,false]}],\"label\":\"Hide All\",\"method\":\"update\"}],\"showactive\":true,\"type\":\"buttons\"}]},                        {\"responsive\": true}                    ).then(function(){\n",
              "                            \n",
              "var gd = document.getElementById('b03be141-9d02-4791-9a68-882ee32110e5');\n",
              "var x = new MutationObserver(function (mutations, observer) {{\n",
              "        var display = window.getComputedStyle(gd).display;\n",
              "        if (!display || display === 'none') {{\n",
              "            console.log([gd, 'removed!']);\n",
              "            Plotly.purge(gd);\n",
              "            observer.disconnect();\n",
              "        }}\n",
              "}});\n",
              "\n",
              "// Listen for the removal of the full notebook cells\n",
              "var notebookContainer = gd.closest('#notebook-container');\n",
              "if (notebookContainer) {{\n",
              "    x.observe(notebookContainer, {childList: true});\n",
              "}}\n",
              "\n",
              "// Listen for the clearing of the current output cell\n",
              "var outputEl = gd.closest('.output');\n",
              "if (outputEl) {{\n",
              "    x.observe(outputEl, {childList: true});\n",
              "}}\n",
              "\n",
              "                        })                };                            </script>        </div>\n",
              "</body>\n",
              "</html>"
            ]
          },
          "metadata": {}
        }
      ],
      "source": [
        "#@title ###**Plotting 2D BERT embeings using plotly**\n",
        "# Extract embeddings for each word\n",
        "word_vectors = []\n",
        "labels = []\n",
        "colors = []\n",
        "\n",
        "# Define a color for each sentence\n",
        "color_map = {\n",
        "    0: 'red', 1: 'green', 2: 'blue', 3: 'cyan', 4: 'magenta', 5: 'yellow'\n",
        "}\n",
        "\n",
        "for i, sentence in enumerate(sentences):\n",
        "    tokens = tokenizer.tokenize(sentence)\n",
        "    for j, token in enumerate(tokens):\n",
        "        word_vectors.append(embeddings[i][j].numpy())\n",
        "        labels.append(token)\n",
        "        colors.append(color_map[i])  # Use the full color name here\n",
        "\n",
        "# Dimensionality Reduction\n",
        "# Apply PCA\n",
        "pca = PCA(n_components=2)\n",
        "word_vectors_2d = pca.fit_transform(word_vectors)\n",
        "\n",
        "# Interactive Visualization\n",
        "# Initialize Plotly figure\n",
        "fig = go.Figure()\n",
        "\n",
        "# Add points for each token\n",
        "for i, label in enumerate(labels):\n",
        "    fig.add_trace(go.Scatter(\n",
        "        x=[word_vectors_2d[i, 0]],\n",
        "        y=[word_vectors_2d[i, 1]],\n",
        "        mode='markers+text',\n",
        "        name=label,\n",
        "        text=[label],\n",
        "        textposition='top center',\n",
        "        marker=dict(color=colors[i])\n",
        "    ))\n",
        "\n",
        "# Add buttons to toggle visibility of each sentence\n",
        "buttons = []\n",
        "for color in set(color_map.values()):  # Iterate over full color names\n",
        "    indices = [i for i, c in enumerate(colors) if c == color]\n",
        "    sentence_index = list(color_map.keys())[list(color_map.values()).index(color)]\n",
        "    buttons.append(\n",
        "        dict(\n",
        "            label=f\"Sentence {sentence_index + 1}\",\n",
        "            method=\"update\",\n",
        "            args=[{\"visible\": [i in indices for i in range(len(labels))]}]\n",
        "        )\n",
        "    )\n",
        "\n",
        "# Add a button to show all\n",
        "buttons.append(\n",
        "    dict(\n",
        "        label=\"Show All\",\n",
        "        method=\"update\",\n",
        "        args=[{\"visible\": [True] * len(labels)}]\n",
        "    )\n",
        ")\n",
        "\n",
        "# Add a button to hide all\n",
        "buttons.append(\n",
        "    dict(\n",
        "        label=\"Hide All\",\n",
        "        method=\"update\",\n",
        "        args=[{\"visible\": [False] * len(labels)}]\n",
        "    )\n",
        ")\n",
        "\n",
        "# Update layout with buttons\n",
        "fig.update_layout(\n",
        "    title=\"2D BERT Contextualised Embeddings Visualization\",\n",
        "    xaxis_title=\"PCA Component 1\",\n",
        "    yaxis_title=\"PCA Component 2\",\n",
        "    updatemenus=[dict(type=\"buttons\", showactive=True, buttons=buttons)]\n",
        ")\n",
        "\n",
        "# Show plot\n",
        "fig.show()"
      ]
    },
    {
      "cell_type": "markdown",
      "id": "ETSMBBTv4ah_",
      "metadata": {
        "id": "ETSMBBTv4ah_"
      },
      "source": [
        "### <font color ='#34B086'>**What do you notice from the plot above? How does *context* improve the embeddings?**</font>\n",
        "\n",
        "Pay close attention to the clusters that emerge. The word bank now has 3 embeddings near words like river and picnic and the other three near bank, check, cash etc."
      ]
    },
    {
      "cell_type": "markdown",
      "id": "Tx_-GLd26kTA",
      "metadata": {
        "id": "Tx_-GLd26kTA"
      },
      "source": [
        "### Here is a brief comparision of the two approaches we looked at:\n",
        "\n",
        "- **Embedding Type**:\n",
        "  - **word2vec**: Static embeddings (single vector per word).\n",
        "  - **BERT**: Contextualized embeddings (different vectors for the same word based on context).\n",
        "\n",
        "- **Model Architecture**:\n",
        "  - **word2vec**: Shallow neural network.\n",
        "  - **BERT**: Deep transformer architecture.\n",
        "\n",
        "- **Contextual Understanding**:\n",
        "  - **word2vec**: Ignores context; words with multiple meanings have a single representation.\n",
        "  - **BERT**: Incorporates context; words with multiple meanings have different representations based on their context.\n",
        "\n",
        "- **Training Objective**:\n",
        "  - **word2vec**: Trained using Skip-gram or CBOW models to predict nearby words.\n",
        "  - **BERT**: Trained using masked language modeling (MLM) and next sentence prediction (NSP).\n",
        "\n",
        "- **Directionality**:\n",
        "  - **word2vec**: Processes words in one direction (context is limited to nearby words).\n",
        "  - **BERT**: Bidirectional (considers the full sentence context, both before and after the target word).\n",
        "\n",
        "- **Performance on NLP Tasks**:\n",
        "  - **word2vec**: Good for basic semantic similarity tasks.\n",
        "  - **BERT**: Superior performance on a wide range of NLP tasks, including question answering and text classification.\n"
      ]
    },
    {
      "cell_type": "markdown",
      "id": "vtIeO24j3OrA",
      "metadata": {
        "id": "vtIeO24j3OrA"
      },
      "source": [
        "## <font color ='1A54A6'>**Take Home Exercise**🏡\n",
        "\n",
        "\n",
        "Test this notebook with your own sentences where context impacts word meanings directly."
      ]
    },
    {
      "cell_type": "markdown",
      "id": "B6x6dzJ7NCpj",
      "metadata": {
        "id": "B6x6dzJ7NCpj"
      },
      "source": [
        "### **BONUS**:\n",
        "Refer to [this](https://github.com/tensorflow/text/blob/master/docs/tutorials/word2vec.ipynb) official word2vec notebook from tensorflow or the BERT information page on HuggingFace [here](https://huggingface.co/docs/transformers/model_doc/bert#transformers.BertForMaskedLM.forward) for even more details. (not needed for this course)"
      ]
    }
  ],
  "metadata": {
    "colab": {
      "provenance": [],
      "include_colab_link": true
    },
    "kernelspec": {
      "display_name": "Python 3 (ipykernel)",
      "language": "python",
      "name": "python3"
    },
    "language_info": {
      "codemirror_mode": {
        "name": "ipython",
        "version": 3
      },
      "file_extension": ".py",
      "mimetype": "text/x-python",
      "name": "python",
      "nbconvert_exporter": "python",
      "pygments_lexer": "ipython3",
      "version": "3.12.4"
    },
    "widgets": {
      "application/vnd.jupyter.widget-state+json": {
        "8ded0d7075cc491f9cdb174f660d88e1": {
          "model_module": "@jupyter-widgets/controls",
          "model_name": "HBoxModel",
          "model_module_version": "1.5.0",
          "state": {
            "_dom_classes": [],
            "_model_module": "@jupyter-widgets/controls",
            "_model_module_version": "1.5.0",
            "_model_name": "HBoxModel",
            "_view_count": null,
            "_view_module": "@jupyter-widgets/controls",
            "_view_module_version": "1.5.0",
            "_view_name": "HBoxView",
            "box_style": "",
            "children": [
              "IPY_MODEL_66f83f1fe3b946b190eb151c86fa6d2b",
              "IPY_MODEL_3c3502a347b2497c8627e250323392e4",
              "IPY_MODEL_be24c6db48e148249d60d9bed0352a86"
            ],
            "layout": "IPY_MODEL_8fd3c47846214233a638abf15efae23a"
          }
        },
        "66f83f1fe3b946b190eb151c86fa6d2b": {
          "model_module": "@jupyter-widgets/controls",
          "model_name": "HTMLModel",
          "model_module_version": "1.5.0",
          "state": {
            "_dom_classes": [],
            "_model_module": "@jupyter-widgets/controls",
            "_model_module_version": "1.5.0",
            "_model_name": "HTMLModel",
            "_view_count": null,
            "_view_module": "@jupyter-widgets/controls",
            "_view_module_version": "1.5.0",
            "_view_name": "HTMLView",
            "description": "",
            "description_tooltip": null,
            "layout": "IPY_MODEL_002afd30dd6044a097a5883adfe25540",
            "placeholder": "​",
            "style": "IPY_MODEL_a12edcb1aef14288a03c70ee8e3095f5",
            "value": "tokenizer_config.json: 100%"
          }
        },
        "3c3502a347b2497c8627e250323392e4": {
          "model_module": "@jupyter-widgets/controls",
          "model_name": "FloatProgressModel",
          "model_module_version": "1.5.0",
          "state": {
            "_dom_classes": [],
            "_model_module": "@jupyter-widgets/controls",
            "_model_module_version": "1.5.0",
            "_model_name": "FloatProgressModel",
            "_view_count": null,
            "_view_module": "@jupyter-widgets/controls",
            "_view_module_version": "1.5.0",
            "_view_name": "ProgressView",
            "bar_style": "success",
            "description": "",
            "description_tooltip": null,
            "layout": "IPY_MODEL_cd340023dbbe4aad8eac9024ef762248",
            "max": 48,
            "min": 0,
            "orientation": "horizontal",
            "style": "IPY_MODEL_e791ebb9c68a4c7298dc153f6b611905",
            "value": 48
          }
        },
        "be24c6db48e148249d60d9bed0352a86": {
          "model_module": "@jupyter-widgets/controls",
          "model_name": "HTMLModel",
          "model_module_version": "1.5.0",
          "state": {
            "_dom_classes": [],
            "_model_module": "@jupyter-widgets/controls",
            "_model_module_version": "1.5.0",
            "_model_name": "HTMLModel",
            "_view_count": null,
            "_view_module": "@jupyter-widgets/controls",
            "_view_module_version": "1.5.0",
            "_view_name": "HTMLView",
            "description": "",
            "description_tooltip": null,
            "layout": "IPY_MODEL_408c45ca4e094f6195182ea6349b1a2c",
            "placeholder": "​",
            "style": "IPY_MODEL_8d8afabcb5c448ad842a89c51c528260",
            "value": " 48.0/48.0 [00:00&lt;00:00, 2.54kB/s]"
          }
        },
        "8fd3c47846214233a638abf15efae23a": {
          "model_module": "@jupyter-widgets/base",
          "model_name": "LayoutModel",
          "model_module_version": "1.2.0",
          "state": {
            "_model_module": "@jupyter-widgets/base",
            "_model_module_version": "1.2.0",
            "_model_name": "LayoutModel",
            "_view_count": null,
            "_view_module": "@jupyter-widgets/base",
            "_view_module_version": "1.2.0",
            "_view_name": "LayoutView",
            "align_content": null,
            "align_items": null,
            "align_self": null,
            "border": null,
            "bottom": null,
            "display": null,
            "flex": null,
            "flex_flow": null,
            "grid_area": null,
            "grid_auto_columns": null,
            "grid_auto_flow": null,
            "grid_auto_rows": null,
            "grid_column": null,
            "grid_gap": null,
            "grid_row": null,
            "grid_template_areas": null,
            "grid_template_columns": null,
            "grid_template_rows": null,
            "height": null,
            "justify_content": null,
            "justify_items": null,
            "left": null,
            "margin": null,
            "max_height": null,
            "max_width": null,
            "min_height": null,
            "min_width": null,
            "object_fit": null,
            "object_position": null,
            "order": null,
            "overflow": null,
            "overflow_x": null,
            "overflow_y": null,
            "padding": null,
            "right": null,
            "top": null,
            "visibility": null,
            "width": null
          }
        },
        "002afd30dd6044a097a5883adfe25540": {
          "model_module": "@jupyter-widgets/base",
          "model_name": "LayoutModel",
          "model_module_version": "1.2.0",
          "state": {
            "_model_module": "@jupyter-widgets/base",
            "_model_module_version": "1.2.0",
            "_model_name": "LayoutModel",
            "_view_count": null,
            "_view_module": "@jupyter-widgets/base",
            "_view_module_version": "1.2.0",
            "_view_name": "LayoutView",
            "align_content": null,
            "align_items": null,
            "align_self": null,
            "border": null,
            "bottom": null,
            "display": null,
            "flex": null,
            "flex_flow": null,
            "grid_area": null,
            "grid_auto_columns": null,
            "grid_auto_flow": null,
            "grid_auto_rows": null,
            "grid_column": null,
            "grid_gap": null,
            "grid_row": null,
            "grid_template_areas": null,
            "grid_template_columns": null,
            "grid_template_rows": null,
            "height": null,
            "justify_content": null,
            "justify_items": null,
            "left": null,
            "margin": null,
            "max_height": null,
            "max_width": null,
            "min_height": null,
            "min_width": null,
            "object_fit": null,
            "object_position": null,
            "order": null,
            "overflow": null,
            "overflow_x": null,
            "overflow_y": null,
            "padding": null,
            "right": null,
            "top": null,
            "visibility": null,
            "width": null
          }
        },
        "a12edcb1aef14288a03c70ee8e3095f5": {
          "model_module": "@jupyter-widgets/controls",
          "model_name": "DescriptionStyleModel",
          "model_module_version": "1.5.0",
          "state": {
            "_model_module": "@jupyter-widgets/controls",
            "_model_module_version": "1.5.0",
            "_model_name": "DescriptionStyleModel",
            "_view_count": null,
            "_view_module": "@jupyter-widgets/base",
            "_view_module_version": "1.2.0",
            "_view_name": "StyleView",
            "description_width": ""
          }
        },
        "cd340023dbbe4aad8eac9024ef762248": {
          "model_module": "@jupyter-widgets/base",
          "model_name": "LayoutModel",
          "model_module_version": "1.2.0",
          "state": {
            "_model_module": "@jupyter-widgets/base",
            "_model_module_version": "1.2.0",
            "_model_name": "LayoutModel",
            "_view_count": null,
            "_view_module": "@jupyter-widgets/base",
            "_view_module_version": "1.2.0",
            "_view_name": "LayoutView",
            "align_content": null,
            "align_items": null,
            "align_self": null,
            "border": null,
            "bottom": null,
            "display": null,
            "flex": null,
            "flex_flow": null,
            "grid_area": null,
            "grid_auto_columns": null,
            "grid_auto_flow": null,
            "grid_auto_rows": null,
            "grid_column": null,
            "grid_gap": null,
            "grid_row": null,
            "grid_template_areas": null,
            "grid_template_columns": null,
            "grid_template_rows": null,
            "height": null,
            "justify_content": null,
            "justify_items": null,
            "left": null,
            "margin": null,
            "max_height": null,
            "max_width": null,
            "min_height": null,
            "min_width": null,
            "object_fit": null,
            "object_position": null,
            "order": null,
            "overflow": null,
            "overflow_x": null,
            "overflow_y": null,
            "padding": null,
            "right": null,
            "top": null,
            "visibility": null,
            "width": null
          }
        },
        "e791ebb9c68a4c7298dc153f6b611905": {
          "model_module": "@jupyter-widgets/controls",
          "model_name": "ProgressStyleModel",
          "model_module_version": "1.5.0",
          "state": {
            "_model_module": "@jupyter-widgets/controls",
            "_model_module_version": "1.5.0",
            "_model_name": "ProgressStyleModel",
            "_view_count": null,
            "_view_module": "@jupyter-widgets/base",
            "_view_module_version": "1.2.0",
            "_view_name": "StyleView",
            "bar_color": null,
            "description_width": ""
          }
        },
        "408c45ca4e094f6195182ea6349b1a2c": {
          "model_module": "@jupyter-widgets/base",
          "model_name": "LayoutModel",
          "model_module_version": "1.2.0",
          "state": {
            "_model_module": "@jupyter-widgets/base",
            "_model_module_version": "1.2.0",
            "_model_name": "LayoutModel",
            "_view_count": null,
            "_view_module": "@jupyter-widgets/base",
            "_view_module_version": "1.2.0",
            "_view_name": "LayoutView",
            "align_content": null,
            "align_items": null,
            "align_self": null,
            "border": null,
            "bottom": null,
            "display": null,
            "flex": null,
            "flex_flow": null,
            "grid_area": null,
            "grid_auto_columns": null,
            "grid_auto_flow": null,
            "grid_auto_rows": null,
            "grid_column": null,
            "grid_gap": null,
            "grid_row": null,
            "grid_template_areas": null,
            "grid_template_columns": null,
            "grid_template_rows": null,
            "height": null,
            "justify_content": null,
            "justify_items": null,
            "left": null,
            "margin": null,
            "max_height": null,
            "max_width": null,
            "min_height": null,
            "min_width": null,
            "object_fit": null,
            "object_position": null,
            "order": null,
            "overflow": null,
            "overflow_x": null,
            "overflow_y": null,
            "padding": null,
            "right": null,
            "top": null,
            "visibility": null,
            "width": null
          }
        },
        "8d8afabcb5c448ad842a89c51c528260": {
          "model_module": "@jupyter-widgets/controls",
          "model_name": "DescriptionStyleModel",
          "model_module_version": "1.5.0",
          "state": {
            "_model_module": "@jupyter-widgets/controls",
            "_model_module_version": "1.5.0",
            "_model_name": "DescriptionStyleModel",
            "_view_count": null,
            "_view_module": "@jupyter-widgets/base",
            "_view_module_version": "1.2.0",
            "_view_name": "StyleView",
            "description_width": ""
          }
        },
        "81be672fd75c49f18208c74352911214": {
          "model_module": "@jupyter-widgets/controls",
          "model_name": "HBoxModel",
          "model_module_version": "1.5.0",
          "state": {
            "_dom_classes": [],
            "_model_module": "@jupyter-widgets/controls",
            "_model_module_version": "1.5.0",
            "_model_name": "HBoxModel",
            "_view_count": null,
            "_view_module": "@jupyter-widgets/controls",
            "_view_module_version": "1.5.0",
            "_view_name": "HBoxView",
            "box_style": "",
            "children": [
              "IPY_MODEL_9439c7701e6f4772aa75e1292e4a8b8b",
              "IPY_MODEL_69c5e002647849ef81a132a00d83001a",
              "IPY_MODEL_08228661e52140f0a571f06316b24471"
            ],
            "layout": "IPY_MODEL_619754f7c429407eae4149973502f574"
          }
        },
        "9439c7701e6f4772aa75e1292e4a8b8b": {
          "model_module": "@jupyter-widgets/controls",
          "model_name": "HTMLModel",
          "model_module_version": "1.5.0",
          "state": {
            "_dom_classes": [],
            "_model_module": "@jupyter-widgets/controls",
            "_model_module_version": "1.5.0",
            "_model_name": "HTMLModel",
            "_view_count": null,
            "_view_module": "@jupyter-widgets/controls",
            "_view_module_version": "1.5.0",
            "_view_name": "HTMLView",
            "description": "",
            "description_tooltip": null,
            "layout": "IPY_MODEL_67639ba398474edc9768ef51983a501b",
            "placeholder": "​",
            "style": "IPY_MODEL_3a94e122a7254a31a105e8cedefa4121",
            "value": "vocab.txt: 100%"
          }
        },
        "69c5e002647849ef81a132a00d83001a": {
          "model_module": "@jupyter-widgets/controls",
          "model_name": "FloatProgressModel",
          "model_module_version": "1.5.0",
          "state": {
            "_dom_classes": [],
            "_model_module": "@jupyter-widgets/controls",
            "_model_module_version": "1.5.0",
            "_model_name": "FloatProgressModel",
            "_view_count": null,
            "_view_module": "@jupyter-widgets/controls",
            "_view_module_version": "1.5.0",
            "_view_name": "ProgressView",
            "bar_style": "success",
            "description": "",
            "description_tooltip": null,
            "layout": "IPY_MODEL_e12746ca5122413fb4422142743409a3",
            "max": 231508,
            "min": 0,
            "orientation": "horizontal",
            "style": "IPY_MODEL_1ab931d56dbb42cb9a028e6d8067b97a",
            "value": 231508
          }
        },
        "08228661e52140f0a571f06316b24471": {
          "model_module": "@jupyter-widgets/controls",
          "model_name": "HTMLModel",
          "model_module_version": "1.5.0",
          "state": {
            "_dom_classes": [],
            "_model_module": "@jupyter-widgets/controls",
            "_model_module_version": "1.5.0",
            "_model_name": "HTMLModel",
            "_view_count": null,
            "_view_module": "@jupyter-widgets/controls",
            "_view_module_version": "1.5.0",
            "_view_name": "HTMLView",
            "description": "",
            "description_tooltip": null,
            "layout": "IPY_MODEL_e0b7f35e25df47dbbc6cbfef48ee8364",
            "placeholder": "​",
            "style": "IPY_MODEL_17b805678ef64f2789d726fc55bb0727",
            "value": " 232k/232k [00:00&lt;00:00, 9.17MB/s]"
          }
        },
        "619754f7c429407eae4149973502f574": {
          "model_module": "@jupyter-widgets/base",
          "model_name": "LayoutModel",
          "model_module_version": "1.2.0",
          "state": {
            "_model_module": "@jupyter-widgets/base",
            "_model_module_version": "1.2.0",
            "_model_name": "LayoutModel",
            "_view_count": null,
            "_view_module": "@jupyter-widgets/base",
            "_view_module_version": "1.2.0",
            "_view_name": "LayoutView",
            "align_content": null,
            "align_items": null,
            "align_self": null,
            "border": null,
            "bottom": null,
            "display": null,
            "flex": null,
            "flex_flow": null,
            "grid_area": null,
            "grid_auto_columns": null,
            "grid_auto_flow": null,
            "grid_auto_rows": null,
            "grid_column": null,
            "grid_gap": null,
            "grid_row": null,
            "grid_template_areas": null,
            "grid_template_columns": null,
            "grid_template_rows": null,
            "height": null,
            "justify_content": null,
            "justify_items": null,
            "left": null,
            "margin": null,
            "max_height": null,
            "max_width": null,
            "min_height": null,
            "min_width": null,
            "object_fit": null,
            "object_position": null,
            "order": null,
            "overflow": null,
            "overflow_x": null,
            "overflow_y": null,
            "padding": null,
            "right": null,
            "top": null,
            "visibility": null,
            "width": null
          }
        },
        "67639ba398474edc9768ef51983a501b": {
          "model_module": "@jupyter-widgets/base",
          "model_name": "LayoutModel",
          "model_module_version": "1.2.0",
          "state": {
            "_model_module": "@jupyter-widgets/base",
            "_model_module_version": "1.2.0",
            "_model_name": "LayoutModel",
            "_view_count": null,
            "_view_module": "@jupyter-widgets/base",
            "_view_module_version": "1.2.0",
            "_view_name": "LayoutView",
            "align_content": null,
            "align_items": null,
            "align_self": null,
            "border": null,
            "bottom": null,
            "display": null,
            "flex": null,
            "flex_flow": null,
            "grid_area": null,
            "grid_auto_columns": null,
            "grid_auto_flow": null,
            "grid_auto_rows": null,
            "grid_column": null,
            "grid_gap": null,
            "grid_row": null,
            "grid_template_areas": null,
            "grid_template_columns": null,
            "grid_template_rows": null,
            "height": null,
            "justify_content": null,
            "justify_items": null,
            "left": null,
            "margin": null,
            "max_height": null,
            "max_width": null,
            "min_height": null,
            "min_width": null,
            "object_fit": null,
            "object_position": null,
            "order": null,
            "overflow": null,
            "overflow_x": null,
            "overflow_y": null,
            "padding": null,
            "right": null,
            "top": null,
            "visibility": null,
            "width": null
          }
        },
        "3a94e122a7254a31a105e8cedefa4121": {
          "model_module": "@jupyter-widgets/controls",
          "model_name": "DescriptionStyleModel",
          "model_module_version": "1.5.0",
          "state": {
            "_model_module": "@jupyter-widgets/controls",
            "_model_module_version": "1.5.0",
            "_model_name": "DescriptionStyleModel",
            "_view_count": null,
            "_view_module": "@jupyter-widgets/base",
            "_view_module_version": "1.2.0",
            "_view_name": "StyleView",
            "description_width": ""
          }
        },
        "e12746ca5122413fb4422142743409a3": {
          "model_module": "@jupyter-widgets/base",
          "model_name": "LayoutModel",
          "model_module_version": "1.2.0",
          "state": {
            "_model_module": "@jupyter-widgets/base",
            "_model_module_version": "1.2.0",
            "_model_name": "LayoutModel",
            "_view_count": null,
            "_view_module": "@jupyter-widgets/base",
            "_view_module_version": "1.2.0",
            "_view_name": "LayoutView",
            "align_content": null,
            "align_items": null,
            "align_self": null,
            "border": null,
            "bottom": null,
            "display": null,
            "flex": null,
            "flex_flow": null,
            "grid_area": null,
            "grid_auto_columns": null,
            "grid_auto_flow": null,
            "grid_auto_rows": null,
            "grid_column": null,
            "grid_gap": null,
            "grid_row": null,
            "grid_template_areas": null,
            "grid_template_columns": null,
            "grid_template_rows": null,
            "height": null,
            "justify_content": null,
            "justify_items": null,
            "left": null,
            "margin": null,
            "max_height": null,
            "max_width": null,
            "min_height": null,
            "min_width": null,
            "object_fit": null,
            "object_position": null,
            "order": null,
            "overflow": null,
            "overflow_x": null,
            "overflow_y": null,
            "padding": null,
            "right": null,
            "top": null,
            "visibility": null,
            "width": null
          }
        },
        "1ab931d56dbb42cb9a028e6d8067b97a": {
          "model_module": "@jupyter-widgets/controls",
          "model_name": "ProgressStyleModel",
          "model_module_version": "1.5.0",
          "state": {
            "_model_module": "@jupyter-widgets/controls",
            "_model_module_version": "1.5.0",
            "_model_name": "ProgressStyleModel",
            "_view_count": null,
            "_view_module": "@jupyter-widgets/base",
            "_view_module_version": "1.2.0",
            "_view_name": "StyleView",
            "bar_color": null,
            "description_width": ""
          }
        },
        "e0b7f35e25df47dbbc6cbfef48ee8364": {
          "model_module": "@jupyter-widgets/base",
          "model_name": "LayoutModel",
          "model_module_version": "1.2.0",
          "state": {
            "_model_module": "@jupyter-widgets/base",
            "_model_module_version": "1.2.0",
            "_model_name": "LayoutModel",
            "_view_count": null,
            "_view_module": "@jupyter-widgets/base",
            "_view_module_version": "1.2.0",
            "_view_name": "LayoutView",
            "align_content": null,
            "align_items": null,
            "align_self": null,
            "border": null,
            "bottom": null,
            "display": null,
            "flex": null,
            "flex_flow": null,
            "grid_area": null,
            "grid_auto_columns": null,
            "grid_auto_flow": null,
            "grid_auto_rows": null,
            "grid_column": null,
            "grid_gap": null,
            "grid_row": null,
            "grid_template_areas": null,
            "grid_template_columns": null,
            "grid_template_rows": null,
            "height": null,
            "justify_content": null,
            "justify_items": null,
            "left": null,
            "margin": null,
            "max_height": null,
            "max_width": null,
            "min_height": null,
            "min_width": null,
            "object_fit": null,
            "object_position": null,
            "order": null,
            "overflow": null,
            "overflow_x": null,
            "overflow_y": null,
            "padding": null,
            "right": null,
            "top": null,
            "visibility": null,
            "width": null
          }
        },
        "17b805678ef64f2789d726fc55bb0727": {
          "model_module": "@jupyter-widgets/controls",
          "model_name": "DescriptionStyleModel",
          "model_module_version": "1.5.0",
          "state": {
            "_model_module": "@jupyter-widgets/controls",
            "_model_module_version": "1.5.0",
            "_model_name": "DescriptionStyleModel",
            "_view_count": null,
            "_view_module": "@jupyter-widgets/base",
            "_view_module_version": "1.2.0",
            "_view_name": "StyleView",
            "description_width": ""
          }
        },
        "90b8a83d017f494d9dc6b00d1c2a18d3": {
          "model_module": "@jupyter-widgets/controls",
          "model_name": "HBoxModel",
          "model_module_version": "1.5.0",
          "state": {
            "_dom_classes": [],
            "_model_module": "@jupyter-widgets/controls",
            "_model_module_version": "1.5.0",
            "_model_name": "HBoxModel",
            "_view_count": null,
            "_view_module": "@jupyter-widgets/controls",
            "_view_module_version": "1.5.0",
            "_view_name": "HBoxView",
            "box_style": "",
            "children": [
              "IPY_MODEL_a20054df2aa7455bb921441af387a394",
              "IPY_MODEL_c4ddf9ad8d834afbb4bfe4e645dfc583",
              "IPY_MODEL_1f92c0b1231a4df4bcb4d280c9ba96cc"
            ],
            "layout": "IPY_MODEL_071cd1dcbbed4608900d371d08f7d144"
          }
        },
        "a20054df2aa7455bb921441af387a394": {
          "model_module": "@jupyter-widgets/controls",
          "model_name": "HTMLModel",
          "model_module_version": "1.5.0",
          "state": {
            "_dom_classes": [],
            "_model_module": "@jupyter-widgets/controls",
            "_model_module_version": "1.5.0",
            "_model_name": "HTMLModel",
            "_view_count": null,
            "_view_module": "@jupyter-widgets/controls",
            "_view_module_version": "1.5.0",
            "_view_name": "HTMLView",
            "description": "",
            "description_tooltip": null,
            "layout": "IPY_MODEL_5bbcc69ad9464fc19312fad1e194df0a",
            "placeholder": "​",
            "style": "IPY_MODEL_b80deee6704a4b9082330d0010525939",
            "value": "tokenizer.json: 100%"
          }
        },
        "c4ddf9ad8d834afbb4bfe4e645dfc583": {
          "model_module": "@jupyter-widgets/controls",
          "model_name": "FloatProgressModel",
          "model_module_version": "1.5.0",
          "state": {
            "_dom_classes": [],
            "_model_module": "@jupyter-widgets/controls",
            "_model_module_version": "1.5.0",
            "_model_name": "FloatProgressModel",
            "_view_count": null,
            "_view_module": "@jupyter-widgets/controls",
            "_view_module_version": "1.5.0",
            "_view_name": "ProgressView",
            "bar_style": "success",
            "description": "",
            "description_tooltip": null,
            "layout": "IPY_MODEL_f463be8d78644d29b68a4b744ca30794",
            "max": 466062,
            "min": 0,
            "orientation": "horizontal",
            "style": "IPY_MODEL_679e032578fe473da5fe6805b8ea35e1",
            "value": 466062
          }
        },
        "1f92c0b1231a4df4bcb4d280c9ba96cc": {
          "model_module": "@jupyter-widgets/controls",
          "model_name": "HTMLModel",
          "model_module_version": "1.5.0",
          "state": {
            "_dom_classes": [],
            "_model_module": "@jupyter-widgets/controls",
            "_model_module_version": "1.5.0",
            "_model_name": "HTMLModel",
            "_view_count": null,
            "_view_module": "@jupyter-widgets/controls",
            "_view_module_version": "1.5.0",
            "_view_name": "HTMLView",
            "description": "",
            "description_tooltip": null,
            "layout": "IPY_MODEL_f1f8119b97244446acb382b4bbb3df81",
            "placeholder": "​",
            "style": "IPY_MODEL_5ef5f9765cd544a887369f3b37b7c427",
            "value": " 466k/466k [00:00&lt;00:00, 20.9MB/s]"
          }
        },
        "071cd1dcbbed4608900d371d08f7d144": {
          "model_module": "@jupyter-widgets/base",
          "model_name": "LayoutModel",
          "model_module_version": "1.2.0",
          "state": {
            "_model_module": "@jupyter-widgets/base",
            "_model_module_version": "1.2.0",
            "_model_name": "LayoutModel",
            "_view_count": null,
            "_view_module": "@jupyter-widgets/base",
            "_view_module_version": "1.2.0",
            "_view_name": "LayoutView",
            "align_content": null,
            "align_items": null,
            "align_self": null,
            "border": null,
            "bottom": null,
            "display": null,
            "flex": null,
            "flex_flow": null,
            "grid_area": null,
            "grid_auto_columns": null,
            "grid_auto_flow": null,
            "grid_auto_rows": null,
            "grid_column": null,
            "grid_gap": null,
            "grid_row": null,
            "grid_template_areas": null,
            "grid_template_columns": null,
            "grid_template_rows": null,
            "height": null,
            "justify_content": null,
            "justify_items": null,
            "left": null,
            "margin": null,
            "max_height": null,
            "max_width": null,
            "min_height": null,
            "min_width": null,
            "object_fit": null,
            "object_position": null,
            "order": null,
            "overflow": null,
            "overflow_x": null,
            "overflow_y": null,
            "padding": null,
            "right": null,
            "top": null,
            "visibility": null,
            "width": null
          }
        },
        "5bbcc69ad9464fc19312fad1e194df0a": {
          "model_module": "@jupyter-widgets/base",
          "model_name": "LayoutModel",
          "model_module_version": "1.2.0",
          "state": {
            "_model_module": "@jupyter-widgets/base",
            "_model_module_version": "1.2.0",
            "_model_name": "LayoutModel",
            "_view_count": null,
            "_view_module": "@jupyter-widgets/base",
            "_view_module_version": "1.2.0",
            "_view_name": "LayoutView",
            "align_content": null,
            "align_items": null,
            "align_self": null,
            "border": null,
            "bottom": null,
            "display": null,
            "flex": null,
            "flex_flow": null,
            "grid_area": null,
            "grid_auto_columns": null,
            "grid_auto_flow": null,
            "grid_auto_rows": null,
            "grid_column": null,
            "grid_gap": null,
            "grid_row": null,
            "grid_template_areas": null,
            "grid_template_columns": null,
            "grid_template_rows": null,
            "height": null,
            "justify_content": null,
            "justify_items": null,
            "left": null,
            "margin": null,
            "max_height": null,
            "max_width": null,
            "min_height": null,
            "min_width": null,
            "object_fit": null,
            "object_position": null,
            "order": null,
            "overflow": null,
            "overflow_x": null,
            "overflow_y": null,
            "padding": null,
            "right": null,
            "top": null,
            "visibility": null,
            "width": null
          }
        },
        "b80deee6704a4b9082330d0010525939": {
          "model_module": "@jupyter-widgets/controls",
          "model_name": "DescriptionStyleModel",
          "model_module_version": "1.5.0",
          "state": {
            "_model_module": "@jupyter-widgets/controls",
            "_model_module_version": "1.5.0",
            "_model_name": "DescriptionStyleModel",
            "_view_count": null,
            "_view_module": "@jupyter-widgets/base",
            "_view_module_version": "1.2.0",
            "_view_name": "StyleView",
            "description_width": ""
          }
        },
        "f463be8d78644d29b68a4b744ca30794": {
          "model_module": "@jupyter-widgets/base",
          "model_name": "LayoutModel",
          "model_module_version": "1.2.0",
          "state": {
            "_model_module": "@jupyter-widgets/base",
            "_model_module_version": "1.2.0",
            "_model_name": "LayoutModel",
            "_view_count": null,
            "_view_module": "@jupyter-widgets/base",
            "_view_module_version": "1.2.0",
            "_view_name": "LayoutView",
            "align_content": null,
            "align_items": null,
            "align_self": null,
            "border": null,
            "bottom": null,
            "display": null,
            "flex": null,
            "flex_flow": null,
            "grid_area": null,
            "grid_auto_columns": null,
            "grid_auto_flow": null,
            "grid_auto_rows": null,
            "grid_column": null,
            "grid_gap": null,
            "grid_row": null,
            "grid_template_areas": null,
            "grid_template_columns": null,
            "grid_template_rows": null,
            "height": null,
            "justify_content": null,
            "justify_items": null,
            "left": null,
            "margin": null,
            "max_height": null,
            "max_width": null,
            "min_height": null,
            "min_width": null,
            "object_fit": null,
            "object_position": null,
            "order": null,
            "overflow": null,
            "overflow_x": null,
            "overflow_y": null,
            "padding": null,
            "right": null,
            "top": null,
            "visibility": null,
            "width": null
          }
        },
        "679e032578fe473da5fe6805b8ea35e1": {
          "model_module": "@jupyter-widgets/controls",
          "model_name": "ProgressStyleModel",
          "model_module_version": "1.5.0",
          "state": {
            "_model_module": "@jupyter-widgets/controls",
            "_model_module_version": "1.5.0",
            "_model_name": "ProgressStyleModel",
            "_view_count": null,
            "_view_module": "@jupyter-widgets/base",
            "_view_module_version": "1.2.0",
            "_view_name": "StyleView",
            "bar_color": null,
            "description_width": ""
          }
        },
        "f1f8119b97244446acb382b4bbb3df81": {
          "model_module": "@jupyter-widgets/base",
          "model_name": "LayoutModel",
          "model_module_version": "1.2.0",
          "state": {
            "_model_module": "@jupyter-widgets/base",
            "_model_module_version": "1.2.0",
            "_model_name": "LayoutModel",
            "_view_count": null,
            "_view_module": "@jupyter-widgets/base",
            "_view_module_version": "1.2.0",
            "_view_name": "LayoutView",
            "align_content": null,
            "align_items": null,
            "align_self": null,
            "border": null,
            "bottom": null,
            "display": null,
            "flex": null,
            "flex_flow": null,
            "grid_area": null,
            "grid_auto_columns": null,
            "grid_auto_flow": null,
            "grid_auto_rows": null,
            "grid_column": null,
            "grid_gap": null,
            "grid_row": null,
            "grid_template_areas": null,
            "grid_template_columns": null,
            "grid_template_rows": null,
            "height": null,
            "justify_content": null,
            "justify_items": null,
            "left": null,
            "margin": null,
            "max_height": null,
            "max_width": null,
            "min_height": null,
            "min_width": null,
            "object_fit": null,
            "object_position": null,
            "order": null,
            "overflow": null,
            "overflow_x": null,
            "overflow_y": null,
            "padding": null,
            "right": null,
            "top": null,
            "visibility": null,
            "width": null
          }
        },
        "5ef5f9765cd544a887369f3b37b7c427": {
          "model_module": "@jupyter-widgets/controls",
          "model_name": "DescriptionStyleModel",
          "model_module_version": "1.5.0",
          "state": {
            "_model_module": "@jupyter-widgets/controls",
            "_model_module_version": "1.5.0",
            "_model_name": "DescriptionStyleModel",
            "_view_count": null,
            "_view_module": "@jupyter-widgets/base",
            "_view_module_version": "1.2.0",
            "_view_name": "StyleView",
            "description_width": ""
          }
        },
        "50b63b741be74f899d809894cc0b1ce6": {
          "model_module": "@jupyter-widgets/controls",
          "model_name": "HBoxModel",
          "model_module_version": "1.5.0",
          "state": {
            "_dom_classes": [],
            "_model_module": "@jupyter-widgets/controls",
            "_model_module_version": "1.5.0",
            "_model_name": "HBoxModel",
            "_view_count": null,
            "_view_module": "@jupyter-widgets/controls",
            "_view_module_version": "1.5.0",
            "_view_name": "HBoxView",
            "box_style": "",
            "children": [
              "IPY_MODEL_5ccdfbb138ab4c0aa9126c260e45aceb",
              "IPY_MODEL_12e8fd3199f24b6693acb618b524c08c",
              "IPY_MODEL_e7ea9c2331264a449354294152cb6955"
            ],
            "layout": "IPY_MODEL_e08d157aabf044b8abfbf67e590506b6"
          }
        },
        "5ccdfbb138ab4c0aa9126c260e45aceb": {
          "model_module": "@jupyter-widgets/controls",
          "model_name": "HTMLModel",
          "model_module_version": "1.5.0",
          "state": {
            "_dom_classes": [],
            "_model_module": "@jupyter-widgets/controls",
            "_model_module_version": "1.5.0",
            "_model_name": "HTMLModel",
            "_view_count": null,
            "_view_module": "@jupyter-widgets/controls",
            "_view_module_version": "1.5.0",
            "_view_name": "HTMLView",
            "description": "",
            "description_tooltip": null,
            "layout": "IPY_MODEL_8322618f997c4a35874a933c4d7c1136",
            "placeholder": "​",
            "style": "IPY_MODEL_63b044158b5f4f9a9d97ff1a14aecb6a",
            "value": "config.json: 100%"
          }
        },
        "12e8fd3199f24b6693acb618b524c08c": {
          "model_module": "@jupyter-widgets/controls",
          "model_name": "FloatProgressModel",
          "model_module_version": "1.5.0",
          "state": {
            "_dom_classes": [],
            "_model_module": "@jupyter-widgets/controls",
            "_model_module_version": "1.5.0",
            "_model_name": "FloatProgressModel",
            "_view_count": null,
            "_view_module": "@jupyter-widgets/controls",
            "_view_module_version": "1.5.0",
            "_view_name": "ProgressView",
            "bar_style": "success",
            "description": "",
            "description_tooltip": null,
            "layout": "IPY_MODEL_0ef1dd62208847b2941abdd2589ef6d5",
            "max": 570,
            "min": 0,
            "orientation": "horizontal",
            "style": "IPY_MODEL_4d74c0c892644bf68c10990f07e7c924",
            "value": 570
          }
        },
        "e7ea9c2331264a449354294152cb6955": {
          "model_module": "@jupyter-widgets/controls",
          "model_name": "HTMLModel",
          "model_module_version": "1.5.0",
          "state": {
            "_dom_classes": [],
            "_model_module": "@jupyter-widgets/controls",
            "_model_module_version": "1.5.0",
            "_model_name": "HTMLModel",
            "_view_count": null,
            "_view_module": "@jupyter-widgets/controls",
            "_view_module_version": "1.5.0",
            "_view_name": "HTMLView",
            "description": "",
            "description_tooltip": null,
            "layout": "IPY_MODEL_62b60019a30f4bc382db72c079b6a904",
            "placeholder": "​",
            "style": "IPY_MODEL_8c820b59ef8a42829d1df0a8d1b3befb",
            "value": " 570/570 [00:00&lt;00:00, 40.6kB/s]"
          }
        },
        "e08d157aabf044b8abfbf67e590506b6": {
          "model_module": "@jupyter-widgets/base",
          "model_name": "LayoutModel",
          "model_module_version": "1.2.0",
          "state": {
            "_model_module": "@jupyter-widgets/base",
            "_model_module_version": "1.2.0",
            "_model_name": "LayoutModel",
            "_view_count": null,
            "_view_module": "@jupyter-widgets/base",
            "_view_module_version": "1.2.0",
            "_view_name": "LayoutView",
            "align_content": null,
            "align_items": null,
            "align_self": null,
            "border": null,
            "bottom": null,
            "display": null,
            "flex": null,
            "flex_flow": null,
            "grid_area": null,
            "grid_auto_columns": null,
            "grid_auto_flow": null,
            "grid_auto_rows": null,
            "grid_column": null,
            "grid_gap": null,
            "grid_row": null,
            "grid_template_areas": null,
            "grid_template_columns": null,
            "grid_template_rows": null,
            "height": null,
            "justify_content": null,
            "justify_items": null,
            "left": null,
            "margin": null,
            "max_height": null,
            "max_width": null,
            "min_height": null,
            "min_width": null,
            "object_fit": null,
            "object_position": null,
            "order": null,
            "overflow": null,
            "overflow_x": null,
            "overflow_y": null,
            "padding": null,
            "right": null,
            "top": null,
            "visibility": null,
            "width": null
          }
        },
        "8322618f997c4a35874a933c4d7c1136": {
          "model_module": "@jupyter-widgets/base",
          "model_name": "LayoutModel",
          "model_module_version": "1.2.0",
          "state": {
            "_model_module": "@jupyter-widgets/base",
            "_model_module_version": "1.2.0",
            "_model_name": "LayoutModel",
            "_view_count": null,
            "_view_module": "@jupyter-widgets/base",
            "_view_module_version": "1.2.0",
            "_view_name": "LayoutView",
            "align_content": null,
            "align_items": null,
            "align_self": null,
            "border": null,
            "bottom": null,
            "display": null,
            "flex": null,
            "flex_flow": null,
            "grid_area": null,
            "grid_auto_columns": null,
            "grid_auto_flow": null,
            "grid_auto_rows": null,
            "grid_column": null,
            "grid_gap": null,
            "grid_row": null,
            "grid_template_areas": null,
            "grid_template_columns": null,
            "grid_template_rows": null,
            "height": null,
            "justify_content": null,
            "justify_items": null,
            "left": null,
            "margin": null,
            "max_height": null,
            "max_width": null,
            "min_height": null,
            "min_width": null,
            "object_fit": null,
            "object_position": null,
            "order": null,
            "overflow": null,
            "overflow_x": null,
            "overflow_y": null,
            "padding": null,
            "right": null,
            "top": null,
            "visibility": null,
            "width": null
          }
        },
        "63b044158b5f4f9a9d97ff1a14aecb6a": {
          "model_module": "@jupyter-widgets/controls",
          "model_name": "DescriptionStyleModel",
          "model_module_version": "1.5.0",
          "state": {
            "_model_module": "@jupyter-widgets/controls",
            "_model_module_version": "1.5.0",
            "_model_name": "DescriptionStyleModel",
            "_view_count": null,
            "_view_module": "@jupyter-widgets/base",
            "_view_module_version": "1.2.0",
            "_view_name": "StyleView",
            "description_width": ""
          }
        },
        "0ef1dd62208847b2941abdd2589ef6d5": {
          "model_module": "@jupyter-widgets/base",
          "model_name": "LayoutModel",
          "model_module_version": "1.2.0",
          "state": {
            "_model_module": "@jupyter-widgets/base",
            "_model_module_version": "1.2.0",
            "_model_name": "LayoutModel",
            "_view_count": null,
            "_view_module": "@jupyter-widgets/base",
            "_view_module_version": "1.2.0",
            "_view_name": "LayoutView",
            "align_content": null,
            "align_items": null,
            "align_self": null,
            "border": null,
            "bottom": null,
            "display": null,
            "flex": null,
            "flex_flow": null,
            "grid_area": null,
            "grid_auto_columns": null,
            "grid_auto_flow": null,
            "grid_auto_rows": null,
            "grid_column": null,
            "grid_gap": null,
            "grid_row": null,
            "grid_template_areas": null,
            "grid_template_columns": null,
            "grid_template_rows": null,
            "height": null,
            "justify_content": null,
            "justify_items": null,
            "left": null,
            "margin": null,
            "max_height": null,
            "max_width": null,
            "min_height": null,
            "min_width": null,
            "object_fit": null,
            "object_position": null,
            "order": null,
            "overflow": null,
            "overflow_x": null,
            "overflow_y": null,
            "padding": null,
            "right": null,
            "top": null,
            "visibility": null,
            "width": null
          }
        },
        "4d74c0c892644bf68c10990f07e7c924": {
          "model_module": "@jupyter-widgets/controls",
          "model_name": "ProgressStyleModel",
          "model_module_version": "1.5.0",
          "state": {
            "_model_module": "@jupyter-widgets/controls",
            "_model_module_version": "1.5.0",
            "_model_name": "ProgressStyleModel",
            "_view_count": null,
            "_view_module": "@jupyter-widgets/base",
            "_view_module_version": "1.2.0",
            "_view_name": "StyleView",
            "bar_color": null,
            "description_width": ""
          }
        },
        "62b60019a30f4bc382db72c079b6a904": {
          "model_module": "@jupyter-widgets/base",
          "model_name": "LayoutModel",
          "model_module_version": "1.2.0",
          "state": {
            "_model_module": "@jupyter-widgets/base",
            "_model_module_version": "1.2.0",
            "_model_name": "LayoutModel",
            "_view_count": null,
            "_view_module": "@jupyter-widgets/base",
            "_view_module_version": "1.2.0",
            "_view_name": "LayoutView",
            "align_content": null,
            "align_items": null,
            "align_self": null,
            "border": null,
            "bottom": null,
            "display": null,
            "flex": null,
            "flex_flow": null,
            "grid_area": null,
            "grid_auto_columns": null,
            "grid_auto_flow": null,
            "grid_auto_rows": null,
            "grid_column": null,
            "grid_gap": null,
            "grid_row": null,
            "grid_template_areas": null,
            "grid_template_columns": null,
            "grid_template_rows": null,
            "height": null,
            "justify_content": null,
            "justify_items": null,
            "left": null,
            "margin": null,
            "max_height": null,
            "max_width": null,
            "min_height": null,
            "min_width": null,
            "object_fit": null,
            "object_position": null,
            "order": null,
            "overflow": null,
            "overflow_x": null,
            "overflow_y": null,
            "padding": null,
            "right": null,
            "top": null,
            "visibility": null,
            "width": null
          }
        },
        "8c820b59ef8a42829d1df0a8d1b3befb": {
          "model_module": "@jupyter-widgets/controls",
          "model_name": "DescriptionStyleModel",
          "model_module_version": "1.5.0",
          "state": {
            "_model_module": "@jupyter-widgets/controls",
            "_model_module_version": "1.5.0",
            "_model_name": "DescriptionStyleModel",
            "_view_count": null,
            "_view_module": "@jupyter-widgets/base",
            "_view_module_version": "1.2.0",
            "_view_name": "StyleView",
            "description_width": ""
          }
        },
        "faf931df61334498af3b612487daa784": {
          "model_module": "@jupyter-widgets/controls",
          "model_name": "HBoxModel",
          "model_module_version": "1.5.0",
          "state": {
            "_dom_classes": [],
            "_model_module": "@jupyter-widgets/controls",
            "_model_module_version": "1.5.0",
            "_model_name": "HBoxModel",
            "_view_count": null,
            "_view_module": "@jupyter-widgets/controls",
            "_view_module_version": "1.5.0",
            "_view_name": "HBoxView",
            "box_style": "",
            "children": [
              "IPY_MODEL_1d8a799eae74435e8540902a5405b75f",
              "IPY_MODEL_4990fd458cea42e88e1efd15de427103",
              "IPY_MODEL_d66027d32a6d40c4b8a9a6e70c843482"
            ],
            "layout": "IPY_MODEL_060c661f27124ffb8964aa879f41b36c"
          }
        },
        "1d8a799eae74435e8540902a5405b75f": {
          "model_module": "@jupyter-widgets/controls",
          "model_name": "HTMLModel",
          "model_module_version": "1.5.0",
          "state": {
            "_dom_classes": [],
            "_model_module": "@jupyter-widgets/controls",
            "_model_module_version": "1.5.0",
            "_model_name": "HTMLModel",
            "_view_count": null,
            "_view_module": "@jupyter-widgets/controls",
            "_view_module_version": "1.5.0",
            "_view_name": "HTMLView",
            "description": "",
            "description_tooltip": null,
            "layout": "IPY_MODEL_7abb9f0d697c456f964de505747ea28e",
            "placeholder": "​",
            "style": "IPY_MODEL_9609ce342853454a8e80ad7479dbaec2",
            "value": "model.safetensors: 100%"
          }
        },
        "4990fd458cea42e88e1efd15de427103": {
          "model_module": "@jupyter-widgets/controls",
          "model_name": "FloatProgressModel",
          "model_module_version": "1.5.0",
          "state": {
            "_dom_classes": [],
            "_model_module": "@jupyter-widgets/controls",
            "_model_module_version": "1.5.0",
            "_model_name": "FloatProgressModel",
            "_view_count": null,
            "_view_module": "@jupyter-widgets/controls",
            "_view_module_version": "1.5.0",
            "_view_name": "ProgressView",
            "bar_style": "success",
            "description": "",
            "description_tooltip": null,
            "layout": "IPY_MODEL_d16f194d32064e12abc2f6c53b5fe812",
            "max": 440449768,
            "min": 0,
            "orientation": "horizontal",
            "style": "IPY_MODEL_04c935bfa3254af187b91ff18e0c99af",
            "value": 440449768
          }
        },
        "d66027d32a6d40c4b8a9a6e70c843482": {
          "model_module": "@jupyter-widgets/controls",
          "model_name": "HTMLModel",
          "model_module_version": "1.5.0",
          "state": {
            "_dom_classes": [],
            "_model_module": "@jupyter-widgets/controls",
            "_model_module_version": "1.5.0",
            "_model_name": "HTMLModel",
            "_view_count": null,
            "_view_module": "@jupyter-widgets/controls",
            "_view_module_version": "1.5.0",
            "_view_name": "HTMLView",
            "description": "",
            "description_tooltip": null,
            "layout": "IPY_MODEL_33007c9c1bfa4fdd8dc001fd9e79dc35",
            "placeholder": "​",
            "style": "IPY_MODEL_9f202eb2a3b64e0aaa121194be99862c",
            "value": " 440M/440M [00:07&lt;00:00, 80.2MB/s]"
          }
        },
        "060c661f27124ffb8964aa879f41b36c": {
          "model_module": "@jupyter-widgets/base",
          "model_name": "LayoutModel",
          "model_module_version": "1.2.0",
          "state": {
            "_model_module": "@jupyter-widgets/base",
            "_model_module_version": "1.2.0",
            "_model_name": "LayoutModel",
            "_view_count": null,
            "_view_module": "@jupyter-widgets/base",
            "_view_module_version": "1.2.0",
            "_view_name": "LayoutView",
            "align_content": null,
            "align_items": null,
            "align_self": null,
            "border": null,
            "bottom": null,
            "display": null,
            "flex": null,
            "flex_flow": null,
            "grid_area": null,
            "grid_auto_columns": null,
            "grid_auto_flow": null,
            "grid_auto_rows": null,
            "grid_column": null,
            "grid_gap": null,
            "grid_row": null,
            "grid_template_areas": null,
            "grid_template_columns": null,
            "grid_template_rows": null,
            "height": null,
            "justify_content": null,
            "justify_items": null,
            "left": null,
            "margin": null,
            "max_height": null,
            "max_width": null,
            "min_height": null,
            "min_width": null,
            "object_fit": null,
            "object_position": null,
            "order": null,
            "overflow": null,
            "overflow_x": null,
            "overflow_y": null,
            "padding": null,
            "right": null,
            "top": null,
            "visibility": null,
            "width": null
          }
        },
        "7abb9f0d697c456f964de505747ea28e": {
          "model_module": "@jupyter-widgets/base",
          "model_name": "LayoutModel",
          "model_module_version": "1.2.0",
          "state": {
            "_model_module": "@jupyter-widgets/base",
            "_model_module_version": "1.2.0",
            "_model_name": "LayoutModel",
            "_view_count": null,
            "_view_module": "@jupyter-widgets/base",
            "_view_module_version": "1.2.0",
            "_view_name": "LayoutView",
            "align_content": null,
            "align_items": null,
            "align_self": null,
            "border": null,
            "bottom": null,
            "display": null,
            "flex": null,
            "flex_flow": null,
            "grid_area": null,
            "grid_auto_columns": null,
            "grid_auto_flow": null,
            "grid_auto_rows": null,
            "grid_column": null,
            "grid_gap": null,
            "grid_row": null,
            "grid_template_areas": null,
            "grid_template_columns": null,
            "grid_template_rows": null,
            "height": null,
            "justify_content": null,
            "justify_items": null,
            "left": null,
            "margin": null,
            "max_height": null,
            "max_width": null,
            "min_height": null,
            "min_width": null,
            "object_fit": null,
            "object_position": null,
            "order": null,
            "overflow": null,
            "overflow_x": null,
            "overflow_y": null,
            "padding": null,
            "right": null,
            "top": null,
            "visibility": null,
            "width": null
          }
        },
        "9609ce342853454a8e80ad7479dbaec2": {
          "model_module": "@jupyter-widgets/controls",
          "model_name": "DescriptionStyleModel",
          "model_module_version": "1.5.0",
          "state": {
            "_model_module": "@jupyter-widgets/controls",
            "_model_module_version": "1.5.0",
            "_model_name": "DescriptionStyleModel",
            "_view_count": null,
            "_view_module": "@jupyter-widgets/base",
            "_view_module_version": "1.2.0",
            "_view_name": "StyleView",
            "description_width": ""
          }
        },
        "d16f194d32064e12abc2f6c53b5fe812": {
          "model_module": "@jupyter-widgets/base",
          "model_name": "LayoutModel",
          "model_module_version": "1.2.0",
          "state": {
            "_model_module": "@jupyter-widgets/base",
            "_model_module_version": "1.2.0",
            "_model_name": "LayoutModel",
            "_view_count": null,
            "_view_module": "@jupyter-widgets/base",
            "_view_module_version": "1.2.0",
            "_view_name": "LayoutView",
            "align_content": null,
            "align_items": null,
            "align_self": null,
            "border": null,
            "bottom": null,
            "display": null,
            "flex": null,
            "flex_flow": null,
            "grid_area": null,
            "grid_auto_columns": null,
            "grid_auto_flow": null,
            "grid_auto_rows": null,
            "grid_column": null,
            "grid_gap": null,
            "grid_row": null,
            "grid_template_areas": null,
            "grid_template_columns": null,
            "grid_template_rows": null,
            "height": null,
            "justify_content": null,
            "justify_items": null,
            "left": null,
            "margin": null,
            "max_height": null,
            "max_width": null,
            "min_height": null,
            "min_width": null,
            "object_fit": null,
            "object_position": null,
            "order": null,
            "overflow": null,
            "overflow_x": null,
            "overflow_y": null,
            "padding": null,
            "right": null,
            "top": null,
            "visibility": null,
            "width": null
          }
        },
        "04c935bfa3254af187b91ff18e0c99af": {
          "model_module": "@jupyter-widgets/controls",
          "model_name": "ProgressStyleModel",
          "model_module_version": "1.5.0",
          "state": {
            "_model_module": "@jupyter-widgets/controls",
            "_model_module_version": "1.5.0",
            "_model_name": "ProgressStyleModel",
            "_view_count": null,
            "_view_module": "@jupyter-widgets/base",
            "_view_module_version": "1.2.0",
            "_view_name": "StyleView",
            "bar_color": null,
            "description_width": ""
          }
        },
        "33007c9c1bfa4fdd8dc001fd9e79dc35": {
          "model_module": "@jupyter-widgets/base",
          "model_name": "LayoutModel",
          "model_module_version": "1.2.0",
          "state": {
            "_model_module": "@jupyter-widgets/base",
            "_model_module_version": "1.2.0",
            "_model_name": "LayoutModel",
            "_view_count": null,
            "_view_module": "@jupyter-widgets/base",
            "_view_module_version": "1.2.0",
            "_view_name": "LayoutView",
            "align_content": null,
            "align_items": null,
            "align_self": null,
            "border": null,
            "bottom": null,
            "display": null,
            "flex": null,
            "flex_flow": null,
            "grid_area": null,
            "grid_auto_columns": null,
            "grid_auto_flow": null,
            "grid_auto_rows": null,
            "grid_column": null,
            "grid_gap": null,
            "grid_row": null,
            "grid_template_areas": null,
            "grid_template_columns": null,
            "grid_template_rows": null,
            "height": null,
            "justify_content": null,
            "justify_items": null,
            "left": null,
            "margin": null,
            "max_height": null,
            "max_width": null,
            "min_height": null,
            "min_width": null,
            "object_fit": null,
            "object_position": null,
            "order": null,
            "overflow": null,
            "overflow_x": null,
            "overflow_y": null,
            "padding": null,
            "right": null,
            "top": null,
            "visibility": null,
            "width": null
          }
        },
        "9f202eb2a3b64e0aaa121194be99862c": {
          "model_module": "@jupyter-widgets/controls",
          "model_name": "DescriptionStyleModel",
          "model_module_version": "1.5.0",
          "state": {
            "_model_module": "@jupyter-widgets/controls",
            "_model_module_version": "1.5.0",
            "_model_name": "DescriptionStyleModel",
            "_view_count": null,
            "_view_module": "@jupyter-widgets/base",
            "_view_module_version": "1.2.0",
            "_view_name": "StyleView",
            "description_width": ""
          }
        }
      }
    }
  },
  "nbformat": 4,
  "nbformat_minor": 5
}