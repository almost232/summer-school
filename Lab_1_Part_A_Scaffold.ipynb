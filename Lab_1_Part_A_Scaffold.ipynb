{
  "metadata": {
    "kernelspec": {
      "name": "python3",
      "display_name": "Python 3 (ipykernel)",
      "language": "python"
    },
    "colab": {
      "provenance": [],
      "include_colab_link": true
    }
  },
  "nbformat": 4,
  "nbformat_minor": 0,
  "cells": [
    {
      "cell_type": "markdown",
      "metadata": {
        "id": "view-in-github",
        "colab_type": "text"
      },
      "source": [
        "<a href=\"https://colab.research.google.com/github/almost232/summer-school/blob/main/Lab_1_Part_A_Scaffold.ipynb\" target=\"_parent\"><img src=\"https://colab.research.google.com/assets/colab-badge.svg\" alt=\"Open In Colab\"/></a>"
      ]
    },
    {
      "cell_type": "markdown",
      "source": [
        "| | |\n",
        "|:---:|:---|\n",
        "| <img src=\"https://drive.google.com/uc?export=view&id=1OaJVnbVa6RHE5tEl1e94s2B3L8BsO31K\" width=\"100\"/> |  <h1><b>Introduction to Language Models: Preprocessing, Modelling, and NLP</b>🙊</h1>|\n",
        "\n",
        "---\n",
        "\n",
        "**Instructor:**  \n",
        "Pavlos Protopapas  \n",
        "\n",
        "**Teaching Team:**  \n",
        "Nawang Thinley Bhutia"
      ],
      "metadata": {
        "id": "LJXc9drhjL_B"
      }
    },
    {
      "cell_type": "markdown",
      "source": [
        "In this notebook, we will go over some of the fundamental concepts in the realm of language models, including basic preprocessing techniques, basic sentiment analysis, modelling, and a few NLP tasks.\n",
        "\n",
        "(You will learn about NLP tasks, and get hands-on experience with tokenization, cleaning, and normalization)\n"
      ],
      "metadata": {
        "id": "f4rOU-TBg1gT"
      }
    },
    {
      "cell_type": "markdown",
      "source": [
        "## Table of Contents\n",
        "\n",
        "### **Part A**\n",
        "1. Preprocessing Techniques\n",
        "    - Loading your Data\n",
        "    - Data Cleaning\n",
        "    - Tokenization\n",
        "    - Normalization\n",
        "2. Simple Sentiment Analysis\n",
        "    - Counting vs Context\n",
        "\n",
        "3. Unigrams and Bigrams\n",
        "\n",
        "    - DEMO: Calculate the frequency of unigrams and bigrams in a sample review.\n",
        "\n",
        "### **Part B**\n",
        "4. Embeddings\n",
        "    - What are Embeddings?\n",
        "    - Plotting Embeddings\n",
        "    - Similar Words\n",
        "\n",
        "\n",
        "  \n",
        "5. Neural Networks for Language Modeling\n",
        "\n",
        "    - Simple Neural Network Model: Using TensorFlow, create and train a model on the simple text to predict the sentiment.\n",
        "\n",
        "    -Exercise: modify or optimize the model parameters to see the difference.\n"
      ],
      "metadata": {
        "id": "Kr-ryxeRg4xh"
      }
    },
    {
      "cell_type": "markdown",
      "source": [
        "## **1. Preprocessing Techniques**"
      ],
      "metadata": {
        "id": "w4QkGebJh8rq"
      }
    },
    {
      "cell_type": "code",
      "execution_count": 50,
      "metadata": {
        "id": "PCW692vVgx4K"
      },
      "outputs": [],
      "source": [
        "import numpy as np\n",
        "import matplotlib.pyplot as plt\n",
        "import re\n",
        "import pickle\n",
        "\n",
        "\n",
        "import nltk\n",
        "from nltk.tokenize import word_tokenize\n",
        "from nltk.corpus import stopwords\n",
        "from nltk.stem import PorterStemmer\n",
        "from nltk.stem import WordNetLemmatizer\n",
        "from nltk import bigrams\n",
        "from nltk.probability import FreqDist\n",
        "\n",
        "\n",
        "from prettytable import PrettyTable"
      ]
    },
    {
      "cell_type": "markdown",
      "source": [
        "### **Loading and exploring the data**"
      ],
      "metadata": {
        "id": "Nv_gvNzkh_Tl"
      }
    },
    {
      "cell_type": "markdown",
      "metadata": {
        "id": "ItgMepjxgx4L"
      },
      "source": [
        "For your convenience, the data is already stored in the file _reviews.pkl_ which you can load read using the code below."
      ]
    },
    {
      "cell_type": "code",
      "source": [
        "#gdown code to get pickle file from drive link\n",
        "!gdown 1NtvaBOXc-dFlpUww6KgIP0Tq9jGD03ld"
      ],
      "metadata": {
        "colab": {
          "base_uri": "https://localhost:8080/"
        },
        "id": "B6Ph0z45eUsA",
        "outputId": "f3988996-1fd5-44d0-8cbb-acc9daca54d3"
      },
      "execution_count": 51,
      "outputs": [
        {
          "output_type": "stream",
          "name": "stdout",
          "text": [
            "Downloading...\n",
            "From: https://drive.google.com/uc?id=1NtvaBOXc-dFlpUww6KgIP0Tq9jGD03ld\n",
            "To: /content/reviews.pkl\n",
            "100% 10.6M/10.6M [00:00<00:00, 34.6MB/s]\n"
          ]
        }
      ]
    },
    {
      "cell_type": "code",
      "execution_count": 52,
      "metadata": {
        "id": "P62nh-Wngx4M",
        "outputId": "03f76e0c-c9ff-4b80-b756-d7ef4ce6ef11",
        "colab": {
          "base_uri": "https://localhost:8080/"
        }
      },
      "outputs": [
        {
          "output_type": "stream",
          "name": "stdout",
          "text": [
            "4000\n",
            "<class 'list'>\n"
          ]
        }
      ],
      "source": [
        "with open('reviews.pkl', 'rb') as file:\n",
        "    train, _ = pickle.load(file)\n",
        "\n",
        "##### check the length and type of train\n",
        "print(len(train)) #length\n",
        "print(type(train)) #type"
      ]
    },
    {
      "cell_type": "markdown",
      "metadata": {
        "id": "1UVqTJ6Bgx4N"
      },
      "source": [
        "Each review is stored in a list. You can explore the contents of each review."
      ]
    },
    {
      "cell_type": "code",
      "execution_count": 53,
      "metadata": {
        "id": "qxdoAP6xgx4O",
        "colab": {
          "base_uri": "https://localhost:8080/",
          "height": 123
        },
        "outputId": "967e802a-62c7-43d5-dc2e-c8421df1311a"
      },
      "outputs": [
        {
          "output_type": "execute_result",
          "data": {
            "text/plain": [
              "\"I don't know why some guys from US, Georgia or even from Bulgaria have the courage to express feelings about something they don't understand at all. For those who did not watch this movie - watch it. Don't expect too much or don't put some frameworks just because this is Kosturica. Watch the movie without prejudice, try to understand the whole humor inside - people of Serbia DID actually getting married while Bil Clinton bomb their villages, gypsies in all Balkans are ALWAYS try to f*ck you up in any way they can, LOVE is always unexpected, pure and colorful, and Balkans are extremely creative. For those who claims this is a bad movie I can see only that the American's sh*t (like Meet Dave, Get Smart etc) are much much worse than a pure, frank Balkan humoristic love story movie as Promise me. The comment should be useful and on second place should represent the personal view of the writer. I think the movie is great and people watch it must give their respects to the director and story told inside. It is simple, but true. It is brutal, but gentle and makes you laugh to dead.\""
            ],
            "application/vnd.google.colaboratory.intrinsic+json": {
              "type": "string"
            }
          },
          "metadata": {},
          "execution_count": 53
        }
      ],
      "source": [
        "train[16]"
      ]
    },
    {
      "cell_type": "markdown",
      "metadata": {
        "id": "FS7MnTv8gx4O"
      },
      "source": [
        "### ⏸ How many characters does the longest review has?\n",
        "\n",
        "#### A. 4000\n",
        "#### B. 10363\n",
        "#### C. 8754"
      ]
    },
    {
      "cell_type": "code",
      "source": [
        "##check your answer here\n"
      ],
      "metadata": {
        "id": "rs0dQHuKYutf"
      },
      "execution_count": 54,
      "outputs": []
    },
    {
      "cell_type": "code",
      "execution_count": 55,
      "metadata": {
        "id": "HtY7LYHwgx4O"
      },
      "outputs": [],
      "source": [
        "### edTest(test_chow1) ###\n",
        "# Submit an answer choice as a string below (eg. if you choose option A, put 'A')\n",
        "answer1 = '___'"
      ]
    },
    {
      "cell_type": "markdown",
      "metadata": {
        "id": "MdecYn-7gx4P"
      },
      "source": [
        "The dataset is organized such as the first 2000 reviews are positive, and the rest negative."
      ]
    },
    {
      "cell_type": "code",
      "execution_count": 57,
      "metadata": {
        "id": "wkZ-vwkvgx4P"
      },
      "outputs": [],
      "source": [
        "train_pos = train[:2000] #index first 2000\n",
        "train_neg = train[-2000:] #inex last 2000"
      ]
    },
    {
      "cell_type": "markdown",
      "source": [
        "### **Data Cleaning**"
      ],
      "metadata": {
        "id": "Ju7l0748iFj9"
      }
    },
    {
      "cell_type": "markdown",
      "metadata": {
        "id": "6e6bYXzkgx4P"
      },
      "source": [
        "Each review is in natural language, which means that it contains punctuation signs and uppercase letters. Because of the nature of the data, each review has HTML characters.\n",
        "\n",
        "In order to analyze the information better, our data cleaning involves removing unwanted characters, punctuations, and stopwords from the text.\n",
        "\n",
        "Let's use the following functions to do so."
      ]
    },
    {
      "cell_type": "markdown",
      "source": [
        "#### **Transform**"
      ],
      "metadata": {
        "id": "wapxa2TJijT8"
      }
    },
    {
      "cell_type": "code",
      "execution_count": 58,
      "metadata": {
        "id": "RufMG8fBgx4P"
      },
      "outputs": [],
      "source": [
        "def transform(review):\n",
        "    # Lower case\n",
        "    review = review.lower()\n",
        "\n",
        "    # Remove HTML\n",
        "    review = re.sub('<br /><br />', ' ', review)\n",
        "\n",
        "    # Replace all none alphanumeric characters with spaces\n",
        "    review = re.sub(r'[^a-zA-Z0\\s]', ' ', review)\n",
        "\n",
        "    return review"
      ]
    },
    {
      "cell_type": "code",
      "execution_count": 59,
      "metadata": {
        "id": "ysQOw4iFgx4P"
      },
      "outputs": [],
      "source": [
        "# Your code here\n",
        "# HINT: use list comprehension to apply the transform function to each sentence\n",
        "train_pos = [transform(string) for string in train_pos]\n",
        "train_neg = [transform(string) for string in train_neg]\n"
      ]
    },
    {
      "cell_type": "markdown",
      "source": [
        "#### **Removing stop Words**"
      ],
      "metadata": {
        "id": "fuXFA4F5ioij"
      }
    },
    {
      "cell_type": "code",
      "source": [
        "nltk.download('stopwords')"
      ],
      "metadata": {
        "colab": {
          "base_uri": "https://localhost:8080/"
        },
        "id": "hJwEhMU13ohH",
        "outputId": "a2120f13-a9ba-4703-dd1d-2262accf970a"
      },
      "execution_count": 60,
      "outputs": [
        {
          "output_type": "stream",
          "name": "stderr",
          "text": [
            "[nltk_data] Downloading package stopwords to /root/nltk_data...\n",
            "[nltk_data]   Package stopwords is already up-to-date!\n"
          ]
        },
        {
          "output_type": "execute_result",
          "data": {
            "text/plain": [
              "True"
            ]
          },
          "metadata": {},
          "execution_count": 60
        }
      ]
    },
    {
      "cell_type": "code",
      "source": [
        "# Remove stopwords\n",
        "\n",
        "stop_words = set(stopwords.words('english'))\n",
        "for sentence in train_pos:\n",
        "  cleaned_tokens = [word for word in sentence.split() if word.lower() not in stop_words]"
      ],
      "metadata": {
        "id": "hIzVKIEejAWc"
      },
      "execution_count": 61,
      "outputs": []
    },
    {
      "cell_type": "code",
      "source": [
        "#print the cleane tokens to have a look\n",
        "cleaned_tokens"
      ],
      "metadata": {
        "colab": {
          "base_uri": "https://localhost:8080/"
        },
        "id": "TsW5BaKY4OFm",
        "outputId": "c16f95b1-ad85-40a1-82f2-d6f9a7989056"
      },
      "execution_count": 62,
      "outputs": [
        {
          "output_type": "execute_result",
          "data": {
            "text/plain": [
              "['joking',\n",
              " 'around',\n",
              " 'ever',\n",
              " 'ever',\n",
              " 'chance',\n",
              " 'see',\n",
              " 'movie',\n",
              " 'see',\n",
              " 'need',\n",
              " 'chop',\n",
              " 'arm',\n",
              " 'see',\n",
              " 'see',\n",
              " 'worth',\n",
              " 'fatty',\n",
              " 'drives',\n",
              " 'bus',\n",
              " 'unlike',\n",
              " 'film',\n",
              " 'ever',\n",
              " 'seen',\n",
              " 'takes',\n",
              " 'trash',\n",
              " 'cinema',\n",
              " 'elevates',\n",
              " 'work',\n",
              " 'art',\n",
              " 'contains',\n",
              " 'poor',\n",
              " 'shots',\n",
              " 'idiotic',\n",
              " 'characters',\n",
              " 'bad',\n",
              " 'dialogue',\n",
              " 'strange',\n",
              " 'acting',\n",
              " 'cinematography',\n",
              " 'belongs',\n",
              " 'public',\n",
              " 'access',\n",
              " 'iowa',\n",
              " 'actually',\n",
              " 'succeeds',\n",
              " 'goal',\n",
              " 'film',\n",
              " 'strives',\n",
              " 'dumbest',\n",
              " 'strangest',\n",
              " 'inane',\n",
              " 'movie',\n",
              " 'ever',\n",
              " 'seen',\n",
              " 'boy',\n",
              " 'ever',\n",
              " 'succeed',\n",
              " 'lay',\n",
              " 'plot',\n",
              " 'worry',\n",
              " 'things',\n",
              " 'filmmakers',\n",
              " 'obviously',\n",
              " 'really',\n",
              " 'pay',\n",
              " 'much',\n",
              " 'attention',\n",
              " 'entire',\n",
              " 'film',\n",
              " 'plot',\n",
              " 'presented',\n",
              " 'long',\n",
              " 'piece',\n",
              " 'text',\n",
              " 'played',\n",
              " 'opening',\n",
              " 'credits',\n",
              " 'event',\n",
              " 'fdtb',\n",
              " 'admirers',\n",
              " 'call',\n",
              " 'story',\n",
              " 'bus',\n",
              " 'tour',\n",
              " 'chicago',\n",
              " 'led',\n",
              " 'satan',\n",
              " 'see',\n",
              " 'jesus',\n",
              " 'town',\n",
              " 'passengers',\n",
              " 'bus',\n",
              " 'supposed',\n",
              " 'die',\n",
              " 'souls',\n",
              " 'would',\n",
              " 'gone',\n",
              " 'hell',\n",
              " 'except',\n",
              " 'jesus',\n",
              " 'town',\n",
              " 'lackey',\n",
              " 'hell',\n",
              " 'calls',\n",
              " 'job',\n",
              " 'angers',\n",
              " 'satan',\n",
              " 'well',\n",
              " 'like',\n",
              " 'looking',\n",
              " 'like',\n",
              " 'fool',\n",
              " 'front',\n",
              " 'guy',\n",
              " 'decides',\n",
              " 'get',\n",
              " 'people',\n",
              " 'bus',\n",
              " 'sign',\n",
              " 'souls',\n",
              " 'directly',\n",
              " 'devil',\n",
              " 'needs',\n",
              " 'disguise',\n",
              " 'otherwise',\n",
              " 'go',\n",
              " 'tour',\n",
              " 'right',\n",
              " 'disguises',\n",
              " 'roger',\n",
              " 'gets',\n",
              " 'bus',\n",
              " 'driver',\n",
              " 'never',\n",
              " 'referred',\n",
              " 'name',\n",
              " 'kind',\n",
              " 'fat',\n",
              " 'guess',\n",
              " 'fatty',\n",
              " 'bus',\n",
              " 'riders',\n",
              " 'collision',\n",
              " 'course',\n",
              " 'wackiness',\n",
              " 'examples',\n",
              " 'lunacy',\n",
              " 'title',\n",
              " 'repeats',\n",
              " 'screen',\n",
              " 'times',\n",
              " 'know',\n",
              " 'character',\n",
              " 'appears',\n",
              " 'bus',\n",
              " 'mid',\n",
              " 'trip',\n",
              " 'without',\n",
              " 'explanation',\n",
              " 'introduction',\n",
              " 'occassionally',\n",
              " 'sits',\n",
              " 'next',\n",
              " 'others',\n",
              " 'look',\n",
              " 'like',\n",
              " 'belong',\n",
              " 'know',\n",
              " 'two',\n",
              " 'characters',\n",
              " 'fall',\n",
              " 'love',\n",
              " 'exchange',\n",
              " 'longing',\n",
              " 'glances',\n",
              " 'really',\n",
              " 'shots',\n",
              " 'repeated',\n",
              " 'know',\n",
              " 'satan',\n",
              " 'gives',\n",
              " 'minute',\n",
              " 'long',\n",
              " 'monologue',\n",
              " 'transforming',\n",
              " 'human',\n",
              " 'form',\n",
              " 'title',\n",
              " 'card',\n",
              " 'flashes',\n",
              " 'satan',\n",
              " 'going',\n",
              " 'transform',\n",
              " 'know',\n",
              " 'one',\n",
              " 'character',\n",
              " 'woman',\n",
              " 'obviously',\n",
              " 'man',\n",
              " 'drag',\n",
              " 'referred',\n",
              " 'characters',\n",
              " 'glamorous',\n",
              " 'bridget',\n",
              " 'know',\n",
              " 'one',\n",
              " 'good',\n",
              " 'thing',\n",
              " 'came',\n",
              " 'internship',\n",
              " 'troma',\n",
              " 'last',\n",
              " 'summer',\n",
              " 'getting',\n",
              " 'copy',\n",
              " 'fatty',\n",
              " 'drives',\n",
              " 'bus']"
            ]
          },
          "metadata": {},
          "execution_count": 62
        }
      ]
    },
    {
      "cell_type": "markdown",
      "source": [
        "### **Normalization**\n",
        "\n",
        "Normalization includes techniques like stemming and lemmatization to reduce words to their base or root form.\n",
        "\n",
        "#### Example: **Lemmatization**"
      ],
      "metadata": {
        "id": "JphU9n-cjLbi"
      }
    },
    {
      "cell_type": "code",
      "source": [
        "# Download the WordNet corpus\n",
        "nltk.download('wordnet')"
      ],
      "metadata": {
        "colab": {
          "base_uri": "https://localhost:8080/"
        },
        "id": "pjOdERD34hSa",
        "outputId": "18171250-161b-4069-9fe5-0ed3640e4848"
      },
      "execution_count": 63,
      "outputs": [
        {
          "output_type": "stream",
          "name": "stderr",
          "text": [
            "[nltk_data] Downloading package wordnet to /root/nltk_data...\n",
            "[nltk_data]   Package wordnet is already up-to-date!\n"
          ]
        },
        {
          "output_type": "execute_result",
          "data": {
            "text/plain": [
              "True"
            ]
          },
          "metadata": {},
          "execution_count": 63
        }
      ]
    },
    {
      "cell_type": "code",
      "source": [
        "# Initialize the lemmatizer\n",
        "lemmatizer = WordNetLemmatizer()\n",
        "\n",
        "# Lemmatize tokens\n",
        "lemmatized_tokens = [lemmatizer.lemmatize(token) for token in cleaned_tokens]\n",
        "print(lemmatized_tokens)\n"
      ],
      "metadata": {
        "id": "UvKnh8ypjOnO",
        "colab": {
          "base_uri": "https://localhost:8080/"
        },
        "outputId": "a9f75f2a-d5f4-486b-c6b1-72955dd8c0e9"
      },
      "execution_count": 64,
      "outputs": [
        {
          "output_type": "stream",
          "name": "stdout",
          "text": [
            "['joking', 'around', 'ever', 'ever', 'chance', 'see', 'movie', 'see', 'need', 'chop', 'arm', 'see', 'see', 'worth', 'fatty', 'drive', 'bus', 'unlike', 'film', 'ever', 'seen', 'take', 'trash', 'cinema', 'elevates', 'work', 'art', 'contains', 'poor', 'shot', 'idiotic', 'character', 'bad', 'dialogue', 'strange', 'acting', 'cinematography', 'belongs', 'public', 'access', 'iowa', 'actually', 'succeeds', 'goal', 'film', 'strives', 'dumbest', 'strangest', 'inane', 'movie', 'ever', 'seen', 'boy', 'ever', 'succeed', 'lay', 'plot', 'worry', 'thing', 'filmmaker', 'obviously', 'really', 'pay', 'much', 'attention', 'entire', 'film', 'plot', 'presented', 'long', 'piece', 'text', 'played', 'opening', 'credit', 'event', 'fdtb', 'admirer', 'call', 'story', 'bus', 'tour', 'chicago', 'led', 'satan', 'see', 'jesus', 'town', 'passenger', 'bus', 'supposed', 'die', 'soul', 'would', 'gone', 'hell', 'except', 'jesus', 'town', 'lackey', 'hell', 'call', 'job', 'anger', 'satan', 'well', 'like', 'looking', 'like', 'fool', 'front', 'guy', 'decides', 'get', 'people', 'bus', 'sign', 'soul', 'directly', 'devil', 'need', 'disguise', 'otherwise', 'go', 'tour', 'right', 'disguise', 'roger', 'get', 'bus', 'driver', 'never', 'referred', 'name', 'kind', 'fat', 'guess', 'fatty', 'bus', 'rider', 'collision', 'course', 'wackiness', 'example', 'lunacy', 'title', 'repeat', 'screen', 'time', 'know', 'character', 'appears', 'bus', 'mid', 'trip', 'without', 'explanation', 'introduction', 'occassionally', 'sits', 'next', 'others', 'look', 'like', 'belong', 'know', 'two', 'character', 'fall', 'love', 'exchange', 'longing', 'glance', 'really', 'shot', 'repeated', 'know', 'satan', 'give', 'minute', 'long', 'monologue', 'transforming', 'human', 'form', 'title', 'card', 'flash', 'satan', 'going', 'transform', 'know', 'one', 'character', 'woman', 'obviously', 'man', 'drag', 'referred', 'character', 'glamorous', 'bridget', 'know', 'one', 'good', 'thing', 'came', 'internship', 'troma', 'last', 'summer', 'getting', 'copy', 'fatty', 'drive', 'bus']\n"
          ]
        }
      ]
    },
    {
      "cell_type": "markdown",
      "source": [
        "##### You may notice that some words did not get properly lemmatized. This can be addressed by adding a **POS (Part of Speech)** Tag"
      ],
      "metadata": {
        "id": "zFFN-sf7-qAA"
      }
    },
    {
      "cell_type": "code",
      "source": [
        "# Download the WordNet resource like tagger\n",
        "# nltk.download('averaged_perceptron_tagger')\n",
        "nltk.download('averaged_perceptron_tagger_eng')\n",
        "# Create a new instance of WordNetLemmatizer\n",
        "lemmatizer = WordNetLemmatizer()\n",
        "\n",
        "# Sample words and their part-of-speech tags\n",
        "tags = nltk.pos_tag(cleaned_tokens)\n",
        "\n",
        "# Convert POS tags to formats compatible with WordNetLemmatizer\n",
        "def get_wordnet_pos(treebank_tag):\n",
        "    if treebank_tag.startswith('J'):\n",
        "        return 'a'  # adjective\n",
        "    elif treebank_tag.startswith('V'):\n",
        "        return 'v'  # verb\n",
        "    elif treebank_tag.startswith('N'):\n",
        "        return 'n'  # noun\n",
        "    elif treebank_tag.startswith('R'):\n",
        "        return 'r'  # adverb\n",
        "    else:\n",
        "        return 'n'  # default to noun\n",
        "\n",
        "# Lemmatizing words based on their POS tags\n",
        "lemmatized_words = {word: lemmatizer.lemmatize(word, pos=get_wordnet_pos(tag)) for word, tag in tags}\n",
        "print(lemmatized_words)\n"
      ],
      "metadata": {
        "colab": {
          "base_uri": "https://localhost:8080/"
        },
        "id": "GlCtJS7s_-sq",
        "outputId": "3e844c24-0de2-4bbb-e82d-1936a1f9aea0"
      },
      "execution_count": 67,
      "outputs": [
        {
          "output_type": "stream",
          "name": "stderr",
          "text": [
            "[nltk_data] Downloading package averaged_perceptron_tagger_eng to\n",
            "[nltk_data]     /root/nltk_data...\n",
            "[nltk_data]   Unzipping taggers/averaged_perceptron_tagger_eng.zip.\n"
          ]
        },
        {
          "output_type": "stream",
          "name": "stdout",
          "text": [
            "{'joking': 'joke', 'around': 'around', 'ever': 'ever', 'chance': 'chance', 'see': 'see', 'movie': 'movie', 'need': 'need', 'chop': 'chop', 'arm': 'arm', 'worth': 'worth', 'fatty': 'fatty', 'drives': 'drive', 'bus': 'bus', 'unlike': 'unlike', 'film': 'film', 'seen': 'see', 'takes': 'take', 'trash': 'trash', 'cinema': 'cinema', 'elevates': 'elevate', 'work': 'work', 'art': 'art', 'contains': 'contains', 'poor': 'poor', 'shots': 'shot', 'idiotic': 'idiotic', 'characters': 'character', 'bad': 'bad', 'dialogue': 'dialogue', 'strange': 'strange', 'acting': 'act', 'cinematography': 'cinematography', 'belongs': 'belongs', 'public': 'public', 'access': 'access', 'iowa': 'iowa', 'actually': 'actually', 'succeeds': 'succeed', 'goal': 'goal', 'strives': 'strive', 'dumbest': 'dumb', 'strangest': 'strange', 'inane': 'inane', 'boy': 'boy', 'succeed': 'succeed', 'lay': 'lay', 'plot': 'plot', 'worry': 'worry', 'things': 'thing', 'filmmakers': 'filmmaker', 'obviously': 'obviously', 'really': 'really', 'pay': 'pay', 'much': 'much', 'attention': 'attention', 'entire': 'entire', 'presented': 'present', 'long': 'long', 'piece': 'piece', 'text': 'text', 'played': 'play', 'opening': 'open', 'credits': 'credit', 'event': 'event', 'fdtb': 'fdtb', 'admirers': 'admirer', 'call': 'call', 'story': 'story', 'tour': 'tour', 'chicago': 'chicago', 'led': 'lead', 'satan': 'satan', 'jesus': 'jesus', 'town': 'town', 'passengers': 'passenger', 'supposed': 'suppose', 'die': 'die', 'souls': 'soul', 'would': 'would', 'gone': 'go', 'hell': 'hell', 'except': 'except', 'lackey': 'lackey', 'calls': 'call', 'job': 'job', 'angers': 'anger', 'well': 'well', 'like': 'like', 'looking': 'look', 'fool': 'fool', 'front': 'front', 'guy': 'guy', 'decides': 'decide', 'get': 'get', 'people': 'people', 'sign': 'sign', 'directly': 'directly', 'devil': 'devil', 'needs': 'need', 'disguise': 'disguise', 'otherwise': 'otherwise', 'go': 'go', 'right': 'right', 'disguises': 'disguise', 'roger': 'roger', 'gets': 'get', 'driver': 'driver', 'never': 'never', 'referred': 'refer', 'name': 'name', 'kind': 'kind', 'fat': 'fat', 'guess': 'guess', 'riders': 'rider', 'collision': 'collision', 'course': 'course', 'wackiness': 'wackiness', 'examples': 'examples', 'lunacy': 'lunacy', 'title': 'title', 'repeats': 'repeat', 'screen': 'screen', 'times': 'time', 'know': 'know', 'character': 'character', 'appears': 'appear', 'mid': 'mid', 'trip': 'trip', 'without': 'without', 'explanation': 'explanation', 'introduction': 'introduction', 'occassionally': 'occassionally', 'sits': 'sit', 'next': 'next', 'others': 'others', 'look': 'look', 'belong': 'belong', 'two': 'two', 'fall': 'fall', 'love': 'love', 'exchange': 'exchange', 'longing': 'longing', 'glances': 'glance', 'repeated': 'repeat', 'gives': 'give', 'minute': 'minute', 'monologue': 'monologue', 'transforming': 'transform', 'human': 'human', 'form': 'form', 'card': 'card', 'flashes': 'flash', 'going': 'go', 'transform': 'transform', 'one': 'one', 'woman': 'woman', 'man': 'man', 'drag': 'drag', 'glamorous': 'glamorous', 'bridget': 'bridget', 'good': 'good', 'thing': 'thing', 'came': 'come', 'internship': 'internship', 'troma': 'troma', 'last': 'last', 'summer': 'summer', 'getting': 'get', 'copy': 'copy'}\n"
          ]
        }
      ]
    },
    {
      "cell_type": "code",
      "source": [
        "# Create a PrettyTable\n",
        "table = PrettyTable()\n",
        "table.field_names = [\"Original Word\", \"Stemmed Word\"]\n",
        "\n",
        "# Adding rows to the table\n",
        "for original, lemma in lemmatized_words.items():\n",
        "    table.add_row([original, lemma])\n",
        "\n",
        "# Print the table\n",
        "print(table)"
      ],
      "metadata": {
        "id": "TusbxfGSAmWT",
        "outputId": "f3de2947-86b7-400f-aa7f-b0193f2e9af7",
        "colab": {
          "base_uri": "https://localhost:8080/"
        }
      },
      "execution_count": 68,
      "outputs": [
        {
          "output_type": "stream",
          "name": "stdout",
          "text": [
            "+----------------+----------------+\n",
            "| Original Word  |  Stemmed Word  |\n",
            "+----------------+----------------+\n",
            "|     joking     |      joke      |\n",
            "|     around     |     around     |\n",
            "|      ever      |      ever      |\n",
            "|     chance     |     chance     |\n",
            "|      see       |      see       |\n",
            "|     movie      |     movie      |\n",
            "|      need      |      need      |\n",
            "|      chop      |      chop      |\n",
            "|      arm       |      arm       |\n",
            "|     worth      |     worth      |\n",
            "|     fatty      |     fatty      |\n",
            "|     drives     |     drive      |\n",
            "|      bus       |      bus       |\n",
            "|     unlike     |     unlike     |\n",
            "|      film      |      film      |\n",
            "|      seen      |      see       |\n",
            "|     takes      |      take      |\n",
            "|     trash      |     trash      |\n",
            "|     cinema     |     cinema     |\n",
            "|    elevates    |    elevate     |\n",
            "|      work      |      work      |\n",
            "|      art       |      art       |\n",
            "|    contains    |    contains    |\n",
            "|      poor      |      poor      |\n",
            "|     shots      |      shot      |\n",
            "|    idiotic     |    idiotic     |\n",
            "|   characters   |   character    |\n",
            "|      bad       |      bad       |\n",
            "|    dialogue    |    dialogue    |\n",
            "|    strange     |    strange     |\n",
            "|     acting     |      act       |\n",
            "| cinematography | cinematography |\n",
            "|    belongs     |    belongs     |\n",
            "|     public     |     public     |\n",
            "|     access     |     access     |\n",
            "|      iowa      |      iowa      |\n",
            "|    actually    |    actually    |\n",
            "|    succeeds    |    succeed     |\n",
            "|      goal      |      goal      |\n",
            "|    strives     |     strive     |\n",
            "|    dumbest     |      dumb      |\n",
            "|   strangest    |    strange     |\n",
            "|     inane      |     inane      |\n",
            "|      boy       |      boy       |\n",
            "|    succeed     |    succeed     |\n",
            "|      lay       |      lay       |\n",
            "|      plot      |      plot      |\n",
            "|     worry      |     worry      |\n",
            "|     things     |     thing      |\n",
            "|   filmmakers   |   filmmaker    |\n",
            "|   obviously    |   obviously    |\n",
            "|     really     |     really     |\n",
            "|      pay       |      pay       |\n",
            "|      much      |      much      |\n",
            "|   attention    |   attention    |\n",
            "|     entire     |     entire     |\n",
            "|   presented    |    present     |\n",
            "|      long      |      long      |\n",
            "|     piece      |     piece      |\n",
            "|      text      |      text      |\n",
            "|     played     |      play      |\n",
            "|    opening     |      open      |\n",
            "|    credits     |     credit     |\n",
            "|     event      |     event      |\n",
            "|      fdtb      |      fdtb      |\n",
            "|    admirers    |    admirer     |\n",
            "|      call      |      call      |\n",
            "|     story      |     story      |\n",
            "|      tour      |      tour      |\n",
            "|    chicago     |    chicago     |\n",
            "|      led       |      lead      |\n",
            "|     satan      |     satan      |\n",
            "|     jesus      |     jesus      |\n",
            "|      town      |      town      |\n",
            "|   passengers   |   passenger    |\n",
            "|    supposed    |    suppose     |\n",
            "|      die       |      die       |\n",
            "|     souls      |      soul      |\n",
            "|     would      |     would      |\n",
            "|      gone      |       go       |\n",
            "|      hell      |      hell      |\n",
            "|     except     |     except     |\n",
            "|     lackey     |     lackey     |\n",
            "|     calls      |      call      |\n",
            "|      job       |      job       |\n",
            "|     angers     |     anger      |\n",
            "|      well      |      well      |\n",
            "|      like      |      like      |\n",
            "|    looking     |      look      |\n",
            "|      fool      |      fool      |\n",
            "|     front      |     front      |\n",
            "|      guy       |      guy       |\n",
            "|    decides     |     decide     |\n",
            "|      get       |      get       |\n",
            "|     people     |     people     |\n",
            "|      sign      |      sign      |\n",
            "|    directly    |    directly    |\n",
            "|     devil      |     devil      |\n",
            "|     needs      |      need      |\n",
            "|    disguise    |    disguise    |\n",
            "|   otherwise    |   otherwise    |\n",
            "|       go       |       go       |\n",
            "|     right      |     right      |\n",
            "|   disguises    |    disguise    |\n",
            "|     roger      |     roger      |\n",
            "|      gets      |      get       |\n",
            "|     driver     |     driver     |\n",
            "|     never      |     never      |\n",
            "|    referred    |     refer      |\n",
            "|      name      |      name      |\n",
            "|      kind      |      kind      |\n",
            "|      fat       |      fat       |\n",
            "|     guess      |     guess      |\n",
            "|     riders     |     rider      |\n",
            "|   collision    |   collision    |\n",
            "|     course     |     course     |\n",
            "|   wackiness    |   wackiness    |\n",
            "|    examples    |    examples    |\n",
            "|     lunacy     |     lunacy     |\n",
            "|     title      |     title      |\n",
            "|    repeats     |     repeat     |\n",
            "|     screen     |     screen     |\n",
            "|     times      |      time      |\n",
            "|      know      |      know      |\n",
            "|   character    |   character    |\n",
            "|    appears     |     appear     |\n",
            "|      mid       |      mid       |\n",
            "|      trip      |      trip      |\n",
            "|    without     |    without     |\n",
            "|  explanation   |  explanation   |\n",
            "|  introduction  |  introduction  |\n",
            "| occassionally  | occassionally  |\n",
            "|      sits      |      sit       |\n",
            "|      next      |      next      |\n",
            "|     others     |     others     |\n",
            "|      look      |      look      |\n",
            "|     belong     |     belong     |\n",
            "|      two       |      two       |\n",
            "|      fall      |      fall      |\n",
            "|      love      |      love      |\n",
            "|    exchange    |    exchange    |\n",
            "|    longing     |    longing     |\n",
            "|    glances     |     glance     |\n",
            "|    repeated    |     repeat     |\n",
            "|     gives      |      give      |\n",
            "|     minute     |     minute     |\n",
            "|   monologue    |   monologue    |\n",
            "|  transforming  |   transform    |\n",
            "|     human      |     human      |\n",
            "|      form      |      form      |\n",
            "|      card      |      card      |\n",
            "|    flashes     |     flash      |\n",
            "|     going      |       go       |\n",
            "|   transform    |   transform    |\n",
            "|      one       |      one       |\n",
            "|     woman      |     woman      |\n",
            "|      man       |      man       |\n",
            "|      drag      |      drag      |\n",
            "|   glamorous    |   glamorous    |\n",
            "|    bridget     |    bridget     |\n",
            "|      good      |      good      |\n",
            "|     thing      |     thing      |\n",
            "|      came      |      come      |\n",
            "|   internship   |   internship   |\n",
            "|     troma      |     troma      |\n",
            "|      last      |      last      |\n",
            "|     summer     |     summer     |\n",
            "|    getting     |      get       |\n",
            "|      copy      |      copy      |\n",
            "+----------------+----------------+\n"
          ]
        }
      ]
    },
    {
      "cell_type": "markdown",
      "source": [
        "#### **Stemming**\n"
      ],
      "metadata": {
        "id": "WNv6h9ay6VAw"
      }
    },
    {
      "cell_type": "code",
      "source": [
        "# Create an instance of the Porter Stemmer\n",
        "stemmer = PorterStemmer()\n",
        "\n",
        "# Applying stemming to each word\n",
        "stemmed_words = {word: stemmer.stem(word) for word in cleaned_tokens}\n",
        "print(stemmed_words)\n"
      ],
      "metadata": {
        "colab": {
          "base_uri": "https://localhost:8080/"
        },
        "id": "qKBPS0gG6WQ3",
        "outputId": "a4e07221-e00d-4e2e-bbdb-df9622795604"
      },
      "execution_count": 69,
      "outputs": [
        {
          "output_type": "stream",
          "name": "stdout",
          "text": [
            "{'joking': 'joke', 'around': 'around', 'ever': 'ever', 'chance': 'chanc', 'see': 'see', 'movie': 'movi', 'need': 'need', 'chop': 'chop', 'arm': 'arm', 'worth': 'worth', 'fatty': 'fatti', 'drives': 'drive', 'bus': 'bu', 'unlike': 'unlik', 'film': 'film', 'seen': 'seen', 'takes': 'take', 'trash': 'trash', 'cinema': 'cinema', 'elevates': 'elev', 'work': 'work', 'art': 'art', 'contains': 'contain', 'poor': 'poor', 'shots': 'shot', 'idiotic': 'idiot', 'characters': 'charact', 'bad': 'bad', 'dialogue': 'dialogu', 'strange': 'strang', 'acting': 'act', 'cinematography': 'cinematographi', 'belongs': 'belong', 'public': 'public', 'access': 'access', 'iowa': 'iowa', 'actually': 'actual', 'succeeds': 'succe', 'goal': 'goal', 'strives': 'strive', 'dumbest': 'dumbest', 'strangest': 'strangest', 'inane': 'inan', 'boy': 'boy', 'succeed': 'succeed', 'lay': 'lay', 'plot': 'plot', 'worry': 'worri', 'things': 'thing', 'filmmakers': 'filmmak', 'obviously': 'obvious', 'really': 'realli', 'pay': 'pay', 'much': 'much', 'attention': 'attent', 'entire': 'entir', 'presented': 'present', 'long': 'long', 'piece': 'piec', 'text': 'text', 'played': 'play', 'opening': 'open', 'credits': 'credit', 'event': 'event', 'fdtb': 'fdtb', 'admirers': 'admir', 'call': 'call', 'story': 'stori', 'tour': 'tour', 'chicago': 'chicago', 'led': 'led', 'satan': 'satan', 'jesus': 'jesu', 'town': 'town', 'passengers': 'passeng', 'supposed': 'suppos', 'die': 'die', 'souls': 'soul', 'would': 'would', 'gone': 'gone', 'hell': 'hell', 'except': 'except', 'lackey': 'lackey', 'calls': 'call', 'job': 'job', 'angers': 'anger', 'well': 'well', 'like': 'like', 'looking': 'look', 'fool': 'fool', 'front': 'front', 'guy': 'guy', 'decides': 'decid', 'get': 'get', 'people': 'peopl', 'sign': 'sign', 'directly': 'directli', 'devil': 'devil', 'needs': 'need', 'disguise': 'disguis', 'otherwise': 'otherwis', 'go': 'go', 'right': 'right', 'disguises': 'disguis', 'roger': 'roger', 'gets': 'get', 'driver': 'driver', 'never': 'never', 'referred': 'refer', 'name': 'name', 'kind': 'kind', 'fat': 'fat', 'guess': 'guess', 'riders': 'rider', 'collision': 'collis', 'course': 'cours', 'wackiness': 'wacki', 'examples': 'exampl', 'lunacy': 'lunaci', 'title': 'titl', 'repeats': 'repeat', 'screen': 'screen', 'times': 'time', 'know': 'know', 'character': 'charact', 'appears': 'appear', 'mid': 'mid', 'trip': 'trip', 'without': 'without', 'explanation': 'explan', 'introduction': 'introduct', 'occassionally': 'occassion', 'sits': 'sit', 'next': 'next', 'others': 'other', 'look': 'look', 'belong': 'belong', 'two': 'two', 'fall': 'fall', 'love': 'love', 'exchange': 'exchang', 'longing': 'long', 'glances': 'glanc', 'repeated': 'repeat', 'gives': 'give', 'minute': 'minut', 'monologue': 'monologu', 'transforming': 'transform', 'human': 'human', 'form': 'form', 'card': 'card', 'flashes': 'flash', 'going': 'go', 'transform': 'transform', 'one': 'one', 'woman': 'woman', 'man': 'man', 'drag': 'drag', 'glamorous': 'glamor', 'bridget': 'bridget', 'good': 'good', 'thing': 'thing', 'came': 'came', 'internship': 'internship', 'troma': 'troma', 'last': 'last', 'summer': 'summer', 'getting': 'get', 'copy': 'copi'}\n"
          ]
        }
      ]
    },
    {
      "cell_type": "markdown",
      "source": [
        "---"
      ],
      "metadata": {
        "id": "HPFeKFHni_go"
      }
    },
    {
      "cell_type": "markdown",
      "source": [
        "## **2. Simple Sentiment Analysis**"
      ],
      "metadata": {
        "id": "QFLodjSHjC5o"
      }
    },
    {
      "cell_type": "markdown",
      "metadata": {
        "id": "na4rTLPRgx4Q"
      },
      "source": [
        "In this exercise, you will look for keywords that you think represent a good movie and keywords that represent bad movies.\n",
        "\n",
        "We expect that a _positive_ review will have more possitive than negative words.\n",
        "\n",
        "To test the hypotesis, count the number of positive and negative words in each review of the training set, for each category.\n"
      ]
    },
    {
      "cell_type": "code",
      "execution_count": 70,
      "metadata": {
        "id": "DQywY1Mjgx4Q"
      },
      "outputs": [],
      "source": [
        "# Your code here\n",
        "pos_key = ['good']#, 'excelent', 'great', 'cool']\n",
        "neg_key = ['bad']#, 'mediocre', 'regular', 'awful','terrible', 'boring', 'slow']"
      ]
    },
    {
      "cell_type": "code",
      "execution_count": 71,
      "metadata": {
        "id": "CyVXDlB0gx4Q"
      },
      "outputs": [],
      "source": [
        "# This counts the words for the positive reviews\n",
        "\n",
        "# Create a numpy array to store the scores\n",
        "scores_pos = np.zeros((len(train_pos), 2))\n",
        "\n",
        "# For each word in pos_key\n",
        "for j in range(len(pos_key)):\n",
        "    # For each review\n",
        "    for i in range(scores_pos.shape[0]):\n",
        "        # Add the number of times the word is found\n",
        "        scores_pos[i,0]+=train_pos[i].count(pos_key[j])\n",
        "\n",
        "# For each word in neg_key\n",
        "for j in range(len(neg_key)):\n",
        "    # For each review\n",
        "    for i in range(scores_pos.shape[0]):\n",
        "        # Add the number of times the word is found\n",
        "        scores_pos[i,1]+=train_pos[i].count(neg_key[j])\n"
      ]
    },
    {
      "cell_type": "markdown",
      "metadata": {
        "id": "DVkxf_mwgx4Q"
      },
      "source": [
        "Using the same logic as above, compute the scores for the negative reviews next:"
      ]
    },
    {
      "cell_type": "code",
      "execution_count": 74,
      "metadata": {
        "id": "xrmIzEyKgx4Q"
      },
      "outputs": [],
      "source": [
        "# Your code here\n",
        "scores_neg = np.zeros((len(train_neg), 2))\n",
        "\n",
        "# For each word in pos_key\n",
        "for j in range(len(neg_key)):\n",
        "    # For each review\n",
        "    for i in range(scores_neg.shape[0]):\n",
        "        # Add the number of times the word is found\n",
        "        scores_neg[i,0]+=train_neg[i].count(neg_key[j])\n",
        "\n",
        "# For each word in pos_key\n",
        "for j in range(len(neg_key)):\n",
        "    # For each review\n",
        "    for i in range(scores_pos.shape[0]):\n",
        "        # Add the number of times the word is found\n",
        "        scores_pos[i,1]+=train_pos[i].count(pos_key[j])"
      ]
    },
    {
      "cell_type": "markdown",
      "metadata": {
        "id": "KevmQAuDgx4Q"
      },
      "source": [
        "### ⏸ What is the average number of appearances of the word **good** in the positive reviews?\n",
        "\n",
        "#### A. 0.30\n",
        "#### B. 0.45\n",
        "#### C. 0.67"
      ]
    },
    {
      "cell_type": "code",
      "source": [
        "##check your answer here\n",
        "##check your answer here\n",
        "print(scores_pos[:,0].mean())"
      ],
      "metadata": {
        "id": "LlxXiqfjYpmu",
        "colab": {
          "base_uri": "https://localhost:8080/"
        },
        "outputId": "ebf2606e-0995-461b-e005-5e3c3c205d1d"
      },
      "execution_count": 77,
      "outputs": [
        {
          "output_type": "stream",
          "name": "stdout",
          "text": [
            "0.6705\n"
          ]
        }
      ]
    },
    {
      "cell_type": "code",
      "execution_count": 76,
      "metadata": {
        "id": "hl_ZSrpkgx4R"
      },
      "outputs": [],
      "source": [
        "### edTest(test_chow2) ###\n",
        "# Submit an answer choice as a string below (eg. if you choose option A, put 'A')\n",
        "answer1 = 'C'"
      ]
    },
    {
      "cell_type": "markdown",
      "metadata": {
        "id": "UADsNhkXgx4R"
      },
      "source": [
        "In order to compare the success of your strategy, you must define a criteria.\n",
        "\n",
        "The simplest one to check if a review is good is to look if the number of positive words occurs more than negative words. For a negative review, the number of negative words should be higher than the positive ones.\n",
        "\n",
        "How many good reviews are classified correctly according to this score? How many negative ones are classified correctly?\n",
        "\n",
        "Remember that you are working with **2000** examples of each category."
      ]
    },
    {
      "cell_type": "code",
      "execution_count": 78,
      "metadata": {
        "outputId": "9f023807-0d22-463c-8b9d-a95a1064dabd",
        "colab": {
          "base_uri": "https://localhost:8080/"
        },
        "id": "EeXYhCECLcyY"
      },
      "outputs": [
        {
          "output_type": "stream",
          "name": "stdout",
          "text": [
            "The number of positive reviews is 0\n",
            "The number of negative reviews is 0\n"
          ]
        }
      ],
      "source": [
        "# Your code here\n",
        "b = scores_pos[:,0]>scores_pos[:,1]\n",
        "print('The number of positive reviews is',b.sum())\n",
        "\n",
        "b = scores_neg[:,0]<scores_neg[:,1]\n",
        "print('The number of negative reviews is',b.sum())"
      ]
    },
    {
      "cell_type": "markdown",
      "metadata": {
        "id": "pLa6KZ5Qgx4R"
      },
      "source": [
        "Create **histograms** to analyze the score distribution.\n",
        "\n",
        "Do the results coincide with your expectations?"
      ]
    },
    {
      "cell_type": "code",
      "execution_count": 79,
      "metadata": {
        "id": "F6AH5drHgx4R",
        "outputId": "9c6cc586-a0e3-469f-daa1-c06234c0d192",
        "colab": {
          "base_uri": "https://localhost:8080/",
          "height": 430
        }
      },
      "outputs": [
        {
          "output_type": "display_data",
          "data": {
            "text/plain": [
              "<Figure size 640x480 with 1 Axes>"
            ],
            "image/png": "[encoded data removed]"
          },
          "metadata": {}
        }
      ],
      "source": [
        "# Your code here\n",
        "plt.hist(scores_pos[:,1], bins=[0,1,2,3,4,5,6,7,8,9,10], alpha=0.5, label='neg_key')\n",
        "plt.hist(scores_pos[:,0], bins=[0,1,2,3,4,5,6,7,8,9,10], alpha=0.5, label='pos_key')\n",
        "plt.legend(loc=0)\n",
        "plt.show()"
      ]
    },
    {
      "cell_type": "markdown",
      "metadata": {
        "id": "CNtekLsOgx4R"
      },
      "source": [
        "Generate the same histograms for the negative reviews."
      ]
    },
    {
      "cell_type": "code",
      "execution_count": 80,
      "metadata": {
        "id": "2kdozaURgx4R",
        "outputId": "bc048acf-c445-4068-9ad8-fd3a82253402",
        "colab": {
          "base_uri": "https://localhost:8080/",
          "height": 430
        }
      },
      "outputs": [
        {
          "output_type": "display_data",
          "data": {
            "text/plain": [
              "<Figure size 640x480 with 1 Axes>"
            ],
            "image/png": "[encoded data removed]"
          },
          "metadata": {}
        }
      ],
      "source": [
        "plt.hist(scores_neg[:,1], bins=[0,1,2,3,4,5,6,7,8,9,10], alpha=0.5, label='neg_key')\n",
        "plt.hist(scores_neg[:,0], bins=[0,1,2,3,4,5,6,7,8,9,10], alpha=0.5, label='pos_key')\n",
        "plt.legend(loc=0)\n",
        "plt.show()"
      ]
    },
    {
      "cell_type": "markdown",
      "metadata": {
        "id": "ZDfPceZVgx4S"
      },
      "source": [
        "In general, the presence of _bad_ words do not represent a bad movie. For example in the following review, we can see many _bad_ words that in the context are used to describe something positive."
      ]
    },
    {
      "cell_type": "code",
      "execution_count": 81,
      "metadata": {
        "id": "eM41tQDegx4S",
        "outputId": "3af8d8a1-10d2-4716-bca0-a33a0284a126",
        "colab": {
          "base_uri": "https://localhost:8080/",
          "height": 87
        }
      },
      "outputs": [
        {
          "output_type": "execute_result",
          "data": {
            "text/plain": [
              "\"Or at least one of the best. I think this is a very fun and very cool game for the N64. Bowser is up to his usual shenanigans (yeah it's a dumb word but the only one I can think of) and Mario must stop him again. This game is very fun to play, and contains lots of nostalgia to me. The only bad thing about it is the graphics, which are awful to today's standards, but everything else is pretty good (especially the little mini-games you can unlock) It's the second best N64 game (the first best is Conker's Bad Fur Day) that I recommend to any Mario fan, or any fan of platform games. It beats out mediocre Super Mario Sunshine any day.<br /><br />9/10 or: A\""
            ],
            "application/vnd.google.colaboratory.intrinsic+json": {
              "type": "string"
            }
          },
          "metadata": {},
          "execution_count": 81
        }
      ],
      "source": [
        "train[17]"
      ]
    },
    {
      "cell_type": "markdown",
      "metadata": {
        "id": "55aPWymXgx4S"
      },
      "source": [
        "You can see that the words _bad_, _awful_ and _mediocre_ are in the review. But they are used to compare it to another title.\n",
        "\n",
        "Moreover, if you look closely, you will see that this is not a movie, but a game, which might have different keywords that describe its behavior.\n",
        "\n",
        "### ⏸ In your own words, How important is the context here?"
      ]
    },
    {
      "cell_type": "markdown",
      "source": [
        "#### ##add your answer here"
      ],
      "metadata": {
        "id": "1LSPXB_AFwTI"
      }
    },
    {
      "cell_type": "markdown",
      "source": [
        "The determination of a word's sentiment often depends on the context.\n"
      ],
      "metadata": {
        "id": "lttNG1rwFz6U"
      }
    },
    {
      "cell_type": "markdown",
      "source": [
        "## 3. **Unigrams and Bigrams (DEMO)**"
      ],
      "metadata": {
        "id": "_dXhsRwRK2G4"
      }
    },
    {
      "cell_type": "code",
      "source": [
        "# Sample text\n",
        "text = \"This is a sample text for analysis. Text analysis helps visualize unigrams and bigrams.\"\n",
        "import nltk\n",
        "nltk.download('punkt_tab')\n",
        "# Tokenizing the text\n",
        "tokens = nltk.word_tokenize(text)\n",
        "\n",
        "# Calculate Unigrams frequency\n",
        "unigram_freq = FreqDist(tokens)\n",
        "\n",
        "# Calculate Bigrams frequency\n",
        "bigrams_tokens = list(bigrams(tokens))\n",
        "bigram_freq = FreqDist(bigrams_tokens)\n",
        "\n",
        "# Function to plot frequency distributions\n",
        "def plot_freq_dist(freq_dist, title=\"Frequency Distribution\", num=10):\n",
        "    most_common = freq_dist.most_common(num)\n",
        "    # Convert bigram tuples to strings explicitly\n",
        "    words = [str(item[0]) for item in most_common]  # Ensure words are strings\n",
        "    counts = [item[1] for item in most_common]\n",
        "    plt.figure(figsize=(10, 5))\n",
        "    plt.bar(words, counts, color='b')\n",
        "    plt.title(title)\n",
        "    plt.xticks(rotation=45)\n",
        "    plt.ylabel('Frequency')\n",
        "    plt.show()\n",
        "\n",
        "# Visualize Unigrams\n",
        "plot_freq_dist(unigram_freq, title=\"Unigram Frequency Distribution\")\n",
        "\n",
        "# Visualize Bigrams\n",
        "# For bigrams, need to convert tuple to string for plotting\n",
        "bigram_labels = [' '.join(bigram) for bigram in bigram_freq]\n",
        "plot_freq_dist(bigram_freq, title=\"Bigram Frequency Distribution\", num=len(bigram_labels))"
      ],
      "metadata": {
        "colab": {
          "base_uri": "https://localhost:8080/",
          "height": 1000
        },
        "id": "7BfwHPZ9K4iy",
        "outputId": "178e2e8d-eede-44d8-d25f-2dfb8f9cc86f"
      },
      "execution_count": 84,
      "outputs": [
        {
          "output_type": "stream",
          "name": "stderr",
          "text": [
            "[nltk_data] Downloading package punkt_tab to /root/nltk_data...\n",
            "[nltk_data]   Unzipping tokenizers/punkt_tab.zip.\n"
          ]
        },
        {
          "output_type": "display_data",
          "data": {
            "text/plain": [
              "<Figure size 1000x500 with 1 Axes>"
            ],
            "image/png": "[encoded data removed]"
          },
          "metadata": {}
        },
        {
          "output_type": "display_data",
          "data": {
            "text/plain": [
              "<Figure size 1000x500 with 1 Axes>"
            ],
            "image/png": "[encoded data removed]"
          },
          "metadata": {}
        }
      ]
    }
  ]
}